{
 "cells": [
  {
   "cell_type": "code",
   "execution_count": 1,
   "metadata": {},
   "outputs": [],
   "source": [
    "# importation de pandas\n",
    "\n",
    "from pandas import read_csv\n",
    "\n",
    "#insertion du fichier csv train dans un dataframe\n",
    "\n",
    "df_predictions = read_csv( '../../handson-ml/my_predictions.csv' )"
   ]
  },
  {
   "cell_type": "code",
   "execution_count": 4,
   "metadata": {},
   "outputs": [],
   "source": [
    "myList = list(df_predictions.columns)\n",
    "myList[3] = 'Probability'\n",
    "df_predictions.columns = myList"
   ]
  },
  {
   "cell_type": "code",
   "execution_count": 6,
   "metadata": {},
   "outputs": [],
   "source": [
    "del df_predictions['SeriousDlqin2yrs']\n",
    "del df_predictions['0 probability']"
   ]
  },
  {
   "cell_type": "code",
   "execution_count": 7,
   "metadata": {
    "collapsed": true
   },
   "outputs": [
    {
     "data": {
      "text/html": [
       "<div>\n",
       "<style scoped>\n",
       "    .dataframe tbody tr th:only-of-type {\n",
       "        vertical-align: middle;\n",
       "    }\n",
       "\n",
       "    .dataframe tbody tr th {\n",
       "        vertical-align: top;\n",
       "    }\n",
       "\n",
       "    .dataframe thead th {\n",
       "        text-align: right;\n",
       "    }\n",
       "</style>\n",
       "<table border=\"1\" class=\"dataframe\">\n",
       "  <thead>\n",
       "    <tr style=\"text-align: right;\">\n",
       "      <th></th>\n",
       "      <th>Id</th>\n",
       "      <th>Probability</th>\n",
       "    </tr>\n",
       "  </thead>\n",
       "  <tbody>\n",
       "    <tr>\n",
       "      <td>0</td>\n",
       "      <td>1</td>\n",
       "      <td>0.27749</td>\n",
       "    </tr>\n",
       "    <tr>\n",
       "      <td>1</td>\n",
       "      <td>2</td>\n",
       "      <td>0.04123</td>\n",
       "    </tr>\n",
       "    <tr>\n",
       "      <td>2</td>\n",
       "      <td>3</td>\n",
       "      <td>0.25725</td>\n",
       "    </tr>\n",
       "    <tr>\n",
       "      <td>3</td>\n",
       "      <td>4</td>\n",
       "      <td>0.02264</td>\n",
       "    </tr>\n",
       "    <tr>\n",
       "      <td>4</td>\n",
       "      <td>5</td>\n",
       "      <td>0.16181</td>\n",
       "    </tr>\n",
       "    <tr>\n",
       "      <td>...</td>\n",
       "      <td>...</td>\n",
       "      <td>...</td>\n",
       "    </tr>\n",
       "    <tr>\n",
       "      <td>101498</td>\n",
       "      <td>101499</td>\n",
       "      <td>0.03957</td>\n",
       "    </tr>\n",
       "    <tr>\n",
       "      <td>101499</td>\n",
       "      <td>101500</td>\n",
       "      <td>0.10411</td>\n",
       "    </tr>\n",
       "    <tr>\n",
       "      <td>101500</td>\n",
       "      <td>101501</td>\n",
       "      <td>0.00427</td>\n",
       "    </tr>\n",
       "    <tr>\n",
       "      <td>101501</td>\n",
       "      <td>101502</td>\n",
       "      <td>0.02749</td>\n",
       "    </tr>\n",
       "    <tr>\n",
       "      <td>101502</td>\n",
       "      <td>101503</td>\n",
       "      <td>0.13978</td>\n",
       "    </tr>\n",
       "  </tbody>\n",
       "</table>\n",
       "<p>101503 rows × 2 columns</p>\n",
       "</div>"
      ],
      "text/plain": [
       "            Id  Probability\n",
       "0            1      0.27749\n",
       "1            2      0.04123\n",
       "2            3      0.25725\n",
       "3            4      0.02264\n",
       "4            5      0.16181\n",
       "...        ...          ...\n",
       "101498  101499      0.03957\n",
       "101499  101500      0.10411\n",
       "101500  101501      0.00427\n",
       "101501  101502      0.02749\n",
       "101502  101503      0.13978\n",
       "\n",
       "[101503 rows x 2 columns]"
      ]
     },
     "execution_count": 7,
     "metadata": {},
     "output_type": "execute_result"
    }
   ],
   "source": [
    "df_predictions"
   ]
  },
  {
   "cell_type": "code",
   "execution_count": 8,
   "metadata": {},
   "outputs": [],
   "source": [
    "df_predictions.to_csv(\"kaggle_prediction.csv\", index=False)"
   ]
  },
  {
   "cell_type": "code",
   "execution_count": 11,
   "metadata": {},
   "outputs": [
    {
     "name": "stdout",
     "output_type": "stream",
     "text": [
      "Warning: Your Kaggle API key is readable by other users on this system! To fix this, you can run 'chmod 600 /home/devel/.kaggle/kaggle.json'\n"
     ]
    }
   ],
   "source": [
    "import kaggle"
   ]
  },
  {
   "cell_type": "code",
   "execution_count": 14,
   "metadata": {},
   "outputs": [
    {
     "name": "stderr",
     "output_type": "stream",
     "text": [
      "100%|██████████| 1.65M/1.65M [00:05<00:00, 290kB/s] \n"
     ]
    },
    {
     "data": {
      "text/plain": [
       "Successfully submitted to Give Me Some Credit"
      ]
     },
     "execution_count": 14,
     "metadata": {},
     "output_type": "execute_result"
    }
   ],
   "source": [
    "submission_file = \"kaggle_prediction.csv\"\n",
    "kaggle.api.competition_submit(submission_file, \"BigML ensemble\", \"GiveMeSomeCredit\")"
   ]
  },
  {
   "cell_type": "code",
   "execution_count": null,
   "metadata": {},
   "outputs": [],
   "source": []
  }
 ],
 "metadata": {
  "kernelspec": {
   "display_name": "Python 3",
   "language": "python",
   "name": "python3"
  },
  "language_info": {
   "codemirror_mode": {
    "name": "ipython",
    "version": 3
   },
   "file_extension": ".py",
   "mimetype": "text/x-python",
   "name": "python",
   "nbconvert_exporter": "python",
   "pygments_lexer": "ipython3",
   "version": "3.7.3"
  }
 },
 "nbformat": 4,
 "nbformat_minor": 2
}
