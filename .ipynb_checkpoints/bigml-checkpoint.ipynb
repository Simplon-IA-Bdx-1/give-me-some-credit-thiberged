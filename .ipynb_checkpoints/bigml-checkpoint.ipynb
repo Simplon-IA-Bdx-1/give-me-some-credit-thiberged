{
 "cells": [
  {
   "cell_type": "code",
<<<<<<< HEAD
   "execution_count": 24,
=======
   "execution_count": 1,
>>>>>>> master
   "metadata": {},
   "outputs": [],
   "source": [
    "#récupération de l'ap de bigml\n",
    "\n",
    "import bigml.api\n",
    "from bigml.api import BigML\n",
    "from pandas import read_csv"
   ]
  },
  {
   "cell_type": "code",
<<<<<<< HEAD
   "execution_count": 25,
=======
   "execution_count": 2,
>>>>>>> master
   "metadata": {},
   "outputs": [],
   "source": [
    "#charge de l'api bigml pour pouvoir faire appel à ces fonctions\n",
    "\n",
    "api = BigML(project='project/5d94a451eba31d46690001cf')"
   ]
  },
  {
   "cell_type": "code",
<<<<<<< HEAD
   "execution_count": 26,
=======
   "execution_count": 3,
>>>>>>> master
   "metadata": {},
   "outputs": [],
   "source": [
    "#récupération du fichier csv bigml à traiter\n",
    "\n",
    "train_full = api.create_source('./train_full.csv')\n",
    "test = api.create_source('./test.csv')"
   ]
  },
  {
   "cell_type": "code",
<<<<<<< HEAD
   "execution_count": 27,
=======
   "execution_count": 4,
>>>>>>> master
   "metadata": {},
   "outputs": [],
   "source": [
    "#création dataset depuis le fichier csv importer précédement\n",
    "\n",
    "train_full_dataset = api.create_dataset(train_full)\n",
    "test_dataset = api.create_dataset(test)"
   ]
  },
  {
   "cell_type": "code",
<<<<<<< HEAD
   "execution_count": 28,
=======
   "execution_count": 10,
>>>>>>> master
   "metadata": {},
   "outputs": [],
   "source": [
    "#split du train full\n",
    "\n",
    "train_dataset = api.create_dataset(\n",
    "    train_full_dataset, {\"name\": \"Train (80%)\",\n",
    "                     \"sample_rate\": 0.8, \"seed\": \"Full train\"})\n",
    "validation_dataset = api.create_dataset(\n",
    "    train_full_dataset, {\"name\": \"Train (20%)\",\n",
    "                     \"sample_rate\": 0.8, \"seed\": \"Full train\",\n",
    "                     \"out_of_bag\": True})"
   ]
  },
  {
   "cell_type": "code",
<<<<<<< HEAD
   "execution_count": 29,
=======
   "execution_count": 11,
>>>>>>> master
   "metadata": {},
   "outputs": [],
   "source": [
    "#creation d'un ensemble à partir de train \n",
    "\n",
    "ensemble = api.create_ensemble(train_dataset,{'objective_field':\"SeriousDlqin2yrs\"})"
   ]
  },
  {
   "cell_type": "code",
<<<<<<< HEAD
   "execution_count": 30,
=======
   "execution_count": 12,
>>>>>>> master
   "metadata": {},
   "outputs": [],
   "source": [
    "#batch prédiction\n",
    "\n",
    "batch_prediction = api.create_batch_prediction(ensemble, test_dataset, {\"output_fields\": [\"Id\"], \"probabilities\": True})"
   ]
  },
  {
   "cell_type": "code",
<<<<<<< HEAD
   "execution_count": 31,
=======
   "execution_count": 13,
>>>>>>> master
   "metadata": {},
   "outputs": [
    {
     "data": {
      "text/plain": [
       "True"
      ]
     },
<<<<<<< HEAD
     "execution_count": 31,
=======
     "execution_count": 13,
>>>>>>> master
     "metadata": {},
     "output_type": "execute_result"
    }
   ],
   "source": [
    "#test prediction\n",
    "\n",
    "api.ok(batch_prediction)"
   ]
  },
  {
   "cell_type": "code",
<<<<<<< HEAD
   "execution_count": 32,
=======
   "execution_count": 14,
>>>>>>> master
   "metadata": {},
   "outputs": [
    {
     "data": {
      "text/plain": [
       "'../../handson-ml/my_predictions.csv'"
      ]
     },
<<<<<<< HEAD
     "execution_count": 32,
=======
     "execution_count": 14,
>>>>>>> master
     "metadata": {},
     "output_type": "execute_result"
    }
   ],
   "source": [
    "#telechargement de la prédiction\n",
    "\n",
    "api.download_batch_prediction(batch_prediction,\n",
    "    filename='../../handson-ml/my_predictions.csv')"
   ]
  },
  {
   "cell_type": "code",
   "execution_count": null,
   "metadata": {},
   "outputs": [],
   "source": []
  }
 ],
 "metadata": {
  "kernelspec": {
   "display_name": "Python 3",
   "language": "python",
   "name": "python3"
  },
  "language_info": {
   "codemirror_mode": {
    "name": "ipython",
    "version": 3
   },
   "file_extension": ".py",
   "mimetype": "text/x-python",
   "name": "python",
   "nbconvert_exporter": "python",
   "pygments_lexer": "ipython3",
   "version": "3.7.3"
  }
 },
 "nbformat": 4,
 "nbformat_minor": 2
}
