{
 "cells": [
  {
   "cell_type": "markdown",
   "metadata": {},
   "source": [
    "# Analyse des résultats de la  prédiction"
   ]
  },
  {
   "cell_type": "code",
   "execution_count": 1,
   "metadata": {
    "scrolled": true
   },
   "outputs": [],
   "source": [
    "#récupération de l'ap de bigml\n",
    "\n",
    "from bigml.api import BigML\n",
    "from pandas import read_csv\n",
    "from sklearn.metrics import confusion_matrix\n",
    "import pandas as pan\n",
    "import matplotlib.pyplot as plt\n",
    "import random"
   ]
  },
  {
   "cell_type": "code",
   "execution_count": 2,
   "metadata": {},
   "outputs": [
    {
     "name": "stdout",
     "output_type": "stream",
     "text": [
      "env: BIGML_USERNAME=damienthiberge\n",
      "env: BIGML_API_KEY=d92377e535638e44239dc49238540477263e1bff\n"
     ]
    }
   ],
   "source": [
    "#récupération des identifiants du projet de bigml\n",
    "\n",
    "%env BIGML_USERNAME=damienthiberge\n",
    "%env BIGML_API_KEY=d92377e535638e44239dc49238540477263e1bff"
   ]
  },
  {
   "cell_type": "code",
   "execution_count": 3,
   "metadata": {},
   "outputs": [],
   "source": [
    "#charge de l'api bigml pour pouvoir faire appel à ces fonctions\n",
    "\n",
    "api = BigML()"
   ]
  },
  {
   "cell_type": "markdown",
   "metadata": {},
   "source": [
    "### récupération du fichier train full"
   ]
  },
  {
   "cell_type": "code",
   "execution_count": 4,
   "metadata": {},
   "outputs": [],
   "source": [
    "#récupération du fichier csv bigml à traiter\n",
    "\n",
    "train_full = api.create_source('../../handson-ml/jupiter/train_full.csv')"
   ]
  },
  {
   "cell_type": "code",
   "execution_count": 5,
   "metadata": {},
   "outputs": [
    {
     "data": {
      "text/plain": [
       "True"
      ]
     },
     "execution_count": 5,
     "metadata": {},
     "output_type": "execute_result"
    }
   ],
   "source": [
    "#test des sources\n",
    "\n",
    "api.ok(train_full)"
   ]
  },
  {
   "cell_type": "code",
   "execution_count": 6,
   "metadata": {},
   "outputs": [],
   "source": [
    "#création dataset depuis le fichier csv importer précédement\n",
    "\n",
    "train_full_dataset = api.create_dataset(train_full)"
   ]
  },
  {
   "cell_type": "markdown",
   "metadata": {},
   "source": [
    "### split du fichier train full afin d'entrainer la machine"
   ]
  },
  {
   "cell_type": "code",
   "execution_count": 7,
   "metadata": {},
   "outputs": [],
   "source": [
    "#split du train full\n",
    "\n",
    "train_dataset = api.create_dataset(\n",
    "    train_full_dataset, {\"name\": \"Train (80%)\",\n",
    "                     \"sample_rate\": 0.8, \"seed\": \"Full train\"})\n",
    "validation_dataset = api.create_dataset(\n",
    "    train_full_dataset, {\"name\": \"Train (20%)\",\n",
    "                     \"sample_rate\": 0.8, \"seed\": \"Full train\",\n",
    "                     \"out_of_bag\": True})"
   ]
  },
  {
   "cell_type": "markdown",
   "metadata": {},
   "source": [
    "### création du model puis batch prédiction"
   ]
  },
  {
   "cell_type": "code",
   "execution_count": 8,
   "metadata": {},
   "outputs": [],
   "source": [
    "#creation d'un ensemble à partir de train \n",
    "\n",
    "ensemble = api.create_ensemble([train_dataset],{\"objective_field\":\"SeriousDlqin2yrs\"})"
   ]
  },
  {
   "cell_type": "code",
   "execution_count": 9,
   "metadata": {},
   "outputs": [],
   "source": [
    "#batch prédiction\n",
    "\n",
    "batch_prediction = api.create_batch_prediction(ensemble, validation_dataset, {\"all_fields\":True, \"probabilities\":True})\n"
   ]
  },
  {
   "cell_type": "code",
   "execution_count": 10,
   "metadata": {},
   "outputs": [
    {
     "data": {
      "text/plain": [
       "True"
      ]
     },
     "execution_count": 10,
     "metadata": {},
     "output_type": "execute_result"
    }
   ],
   "source": [
    "#test prediction\n",
    "\n",
    "api.ok(batch_prediction)"
   ]
  },
  {
   "cell_type": "markdown",
   "metadata": {},
   "source": [
    "### récupération csv de la prédiction"
   ]
  },
  {
   "cell_type": "code",
   "execution_count": 11,
   "metadata": {},
   "outputs": [
    {
     "data": {
      "text/plain": [
       "'../../handson-ml/predictions_error.csv'"
      ]
     },
     "execution_count": 11,
     "metadata": {},
     "output_type": "execute_result"
    }
   ],
   "source": [
    "#telechargement de la prédiction\n",
    "\n",
    "api.download_batch_prediction(batch_prediction,\n",
    "    filename='../../handson-ml/predictions_error.csv')"
   ]
  },
  {
   "cell_type": "code",
   "execution_count": 12,
   "metadata": {
    "collapsed": true
   },
   "outputs": [
    {
     "data": {
      "text/html": [
       "<div>\n",
       "<style scoped>\n",
       "    .dataframe tbody tr th:only-of-type {\n",
       "        vertical-align: middle;\n",
       "    }\n",
       "\n",
       "    .dataframe tbody tr th {\n",
       "        vertical-align: top;\n",
       "    }\n",
       "\n",
       "    .dataframe thead th {\n",
       "        text-align: right;\n",
       "    }\n",
       "</style>\n",
       "<table border=\"1\" class=\"dataframe\">\n",
       "  <thead>\n",
       "    <tr style=\"text-align: right;\">\n",
       "      <th></th>\n",
       "      <th>Id</th>\n",
       "      <th>RevolvingUtilizationOfUnsecuredLines</th>\n",
       "      <th>age</th>\n",
       "      <th>IsOld</th>\n",
       "      <th>DebtRatio</th>\n",
       "      <th>MonthlyIncome</th>\n",
       "      <th>NumberOfTimes30DaysOrLater</th>\n",
       "      <th>NumberOfOpenCreditLinesAndLoans</th>\n",
       "      <th>NumberRealEstateLoansOrLines</th>\n",
       "      <th>NumberOfDependents</th>\n",
       "      <th>SeriousDlqin2yrs</th>\n",
       "      <th>SeriousDlqin2yrs.1</th>\n",
       "      <th>0 probability</th>\n",
       "      <th>1 probability</th>\n",
       "    </tr>\n",
       "    <tr>\n",
       "      <th>field1</th>\n",
       "      <th></th>\n",
       "      <th></th>\n",
       "      <th></th>\n",
       "      <th></th>\n",
       "      <th></th>\n",
       "      <th></th>\n",
       "      <th></th>\n",
       "      <th></th>\n",
       "      <th></th>\n",
       "      <th></th>\n",
       "      <th></th>\n",
       "      <th></th>\n",
       "      <th></th>\n",
       "      <th></th>\n",
       "    </tr>\n",
       "  </thead>\n",
       "  <tbody>\n",
       "    <tr>\n",
       "      <td>5</td>\n",
       "      <td>6</td>\n",
       "      <td>0.213179</td>\n",
       "      <td>74</td>\n",
       "      <td>1</td>\n",
       "      <td>0.375607</td>\n",
       "      <td>3500.0</td>\n",
       "      <td>0</td>\n",
       "      <td>3</td>\n",
       "      <td>1</td>\n",
       "      <td>6</td>\n",
       "      <td>0</td>\n",
       "      <td>0</td>\n",
       "      <td>0.99577</td>\n",
       "      <td>0.00423</td>\n",
       "    </tr>\n",
       "    <tr>\n",
       "      <td>6</td>\n",
       "      <td>7</td>\n",
       "      <td>0.305682</td>\n",
       "      <td>57</td>\n",
       "      <td>0</td>\n",
       "      <td>5710.000000</td>\n",
       "      <td>NaN</td>\n",
       "      <td>0</td>\n",
       "      <td>8</td>\n",
       "      <td>3</td>\n",
       "      <td>7</td>\n",
       "      <td>0</td>\n",
       "      <td>0</td>\n",
       "      <td>0.98316</td>\n",
       "      <td>0.01684</td>\n",
       "    </tr>\n",
       "    <tr>\n",
       "      <td>12</td>\n",
       "      <td>13</td>\n",
       "      <td>0.010352</td>\n",
       "      <td>46</td>\n",
       "      <td>0</td>\n",
       "      <td>0.298354</td>\n",
       "      <td>12454.0</td>\n",
       "      <td>0</td>\n",
       "      <td>13</td>\n",
       "      <td>2</td>\n",
       "      <td>13</td>\n",
       "      <td>0</td>\n",
       "      <td>0</td>\n",
       "      <td>0.98262</td>\n",
       "      <td>0.01738</td>\n",
       "    </tr>\n",
       "    <tr>\n",
       "      <td>13</td>\n",
       "      <td>14</td>\n",
       "      <td>0.964673</td>\n",
       "      <td>40</td>\n",
       "      <td>0</td>\n",
       "      <td>0.382965</td>\n",
       "      <td>13700.0</td>\n",
       "      <td>14</td>\n",
       "      <td>9</td>\n",
       "      <td>1</td>\n",
       "      <td>14</td>\n",
       "      <td>1</td>\n",
       "      <td>1</td>\n",
       "      <td>0.42210</td>\n",
       "      <td>0.57790</td>\n",
       "    </tr>\n",
       "    <tr>\n",
       "      <td>20</td>\n",
       "      <td>21</td>\n",
       "      <td>0.200923</td>\n",
       "      <td>43</td>\n",
       "      <td>0</td>\n",
       "      <td>0.430046</td>\n",
       "      <td>12300.0</td>\n",
       "      <td>0</td>\n",
       "      <td>10</td>\n",
       "      <td>2</td>\n",
       "      <td>21</td>\n",
       "      <td>0</td>\n",
       "      <td>0</td>\n",
       "      <td>0.98743</td>\n",
       "      <td>0.01257</td>\n",
       "    </tr>\n",
       "    <tr>\n",
       "      <td>...</td>\n",
       "      <td>...</td>\n",
       "      <td>...</td>\n",
       "      <td>...</td>\n",
       "      <td>...</td>\n",
       "      <td>...</td>\n",
       "      <td>...</td>\n",
       "      <td>...</td>\n",
       "      <td>...</td>\n",
       "      <td>...</td>\n",
       "      <td>...</td>\n",
       "      <td>...</td>\n",
       "      <td>...</td>\n",
       "      <td>...</td>\n",
       "      <td>...</td>\n",
       "    </tr>\n",
       "    <tr>\n",
       "      <td>149969</td>\n",
       "      <td>149970</td>\n",
       "      <td>0.075535</td>\n",
       "      <td>43</td>\n",
       "      <td>0</td>\n",
       "      <td>0.197538</td>\n",
       "      <td>14700.0</td>\n",
       "      <td>0</td>\n",
       "      <td>10</td>\n",
       "      <td>3</td>\n",
       "      <td>149970</td>\n",
       "      <td>0</td>\n",
       "      <td>0</td>\n",
       "      <td>0.98953</td>\n",
       "      <td>0.01047</td>\n",
       "    </tr>\n",
       "    <tr>\n",
       "      <td>149974</td>\n",
       "      <td>149975</td>\n",
       "      <td>0.962721</td>\n",
       "      <td>61</td>\n",
       "      <td>0</td>\n",
       "      <td>0.603479</td>\n",
       "      <td>5000.0</td>\n",
       "      <td>2</td>\n",
       "      <td>11</td>\n",
       "      <td>1</td>\n",
       "      <td>149975</td>\n",
       "      <td>0</td>\n",
       "      <td>0</td>\n",
       "      <td>0.69603</td>\n",
       "      <td>0.30397</td>\n",
       "    </tr>\n",
       "    <tr>\n",
       "      <td>149983</td>\n",
       "      <td>149984</td>\n",
       "      <td>0.002485</td>\n",
       "      <td>82</td>\n",
       "      <td>1</td>\n",
       "      <td>0.000800</td>\n",
       "      <td>5000.0</td>\n",
       "      <td>0</td>\n",
       "      <td>5</td>\n",
       "      <td>0</td>\n",
       "      <td>149984</td>\n",
       "      <td>0</td>\n",
       "      <td>0</td>\n",
       "      <td>0.99798</td>\n",
       "      <td>0.00202</td>\n",
       "    </tr>\n",
       "    <tr>\n",
       "      <td>149993</td>\n",
       "      <td>149994</td>\n",
       "      <td>1.000000</td>\n",
       "      <td>22</td>\n",
       "      <td>0</td>\n",
       "      <td>0.000000</td>\n",
       "      <td>820.0</td>\n",
       "      <td>0</td>\n",
       "      <td>1</td>\n",
       "      <td>0</td>\n",
       "      <td>149994</td>\n",
       "      <td>0</td>\n",
       "      <td>0</td>\n",
       "      <td>0.95003</td>\n",
       "      <td>0.04997</td>\n",
       "    </tr>\n",
       "    <tr>\n",
       "      <td>149998</td>\n",
       "      <td>149999</td>\n",
       "      <td>0.000000</td>\n",
       "      <td>30</td>\n",
       "      <td>0</td>\n",
       "      <td>0.000000</td>\n",
       "      <td>5716.0</td>\n",
       "      <td>0</td>\n",
       "      <td>4</td>\n",
       "      <td>0</td>\n",
       "      <td>149999</td>\n",
       "      <td>0</td>\n",
       "      <td>0</td>\n",
       "      <td>0.98625</td>\n",
       "      <td>0.01375</td>\n",
       "    </tr>\n",
       "  </tbody>\n",
       "</table>\n",
       "<p>30000 rows × 14 columns</p>\n",
       "</div>"
      ],
      "text/plain": [
       "            Id  RevolvingUtilizationOfUnsecuredLines  age  IsOld    DebtRatio  \\\n",
       "field1                                                                          \n",
       "5            6                              0.213179   74      1     0.375607   \n",
       "6            7                              0.305682   57      0  5710.000000   \n",
       "12          13                              0.010352   46      0     0.298354   \n",
       "13          14                              0.964673   40      0     0.382965   \n",
       "20          21                              0.200923   43      0     0.430046   \n",
       "...        ...                                   ...  ...    ...          ...   \n",
       "149969  149970                              0.075535   43      0     0.197538   \n",
       "149974  149975                              0.962721   61      0     0.603479   \n",
       "149983  149984                              0.002485   82      1     0.000800   \n",
       "149993  149994                              1.000000   22      0     0.000000   \n",
       "149998  149999                              0.000000   30      0     0.000000   \n",
       "\n",
       "        MonthlyIncome  NumberOfTimes30DaysOrLater  \\\n",
       "field1                                              \n",
       "5              3500.0                           0   \n",
       "6                 NaN                           0   \n",
       "12            12454.0                           0   \n",
       "13            13700.0                          14   \n",
       "20            12300.0                           0   \n",
       "...               ...                         ...   \n",
       "149969        14700.0                           0   \n",
       "149974         5000.0                           2   \n",
       "149983         5000.0                           0   \n",
       "149993          820.0                           0   \n",
       "149998         5716.0                           0   \n",
       "\n",
       "        NumberOfOpenCreditLinesAndLoans  NumberRealEstateLoansOrLines  \\\n",
       "field1                                                                  \n",
       "5                                     3                             1   \n",
       "6                                     8                             3   \n",
       "12                                   13                             2   \n",
       "13                                    9                             1   \n",
       "20                                   10                             2   \n",
       "...                                 ...                           ...   \n",
       "149969                               10                             3   \n",
       "149974                               11                             1   \n",
       "149983                                5                             0   \n",
       "149993                                1                             0   \n",
       "149998                                4                             0   \n",
       "\n",
       "        NumberOfDependents  SeriousDlqin2yrs  SeriousDlqin2yrs.1  \\\n",
       "field1                                                             \n",
       "5                        6                 0                   0   \n",
       "6                        7                 0                   0   \n",
       "12                      13                 0                   0   \n",
       "13                      14                 1                   1   \n",
       "20                      21                 0                   0   \n",
       "...                    ...               ...                 ...   \n",
       "149969              149970                 0                   0   \n",
       "149974              149975                 0                   0   \n",
       "149983              149984                 0                   0   \n",
       "149993              149994                 0                   0   \n",
       "149998              149999                 0                   0   \n",
       "\n",
       "        0 probability  1 probability  \n",
       "field1                                \n",
       "5             0.99577        0.00423  \n",
       "6             0.98316        0.01684  \n",
       "12            0.98262        0.01738  \n",
       "13            0.42210        0.57790  \n",
       "20            0.98743        0.01257  \n",
       "...               ...            ...  \n",
       "149969        0.98953        0.01047  \n",
       "149974        0.69603        0.30397  \n",
       "149983        0.99798        0.00202  \n",
       "149993        0.95003        0.04997  \n",
       "149998        0.98625        0.01375  \n",
       "\n",
       "[30000 rows x 14 columns]"
      ]
     },
     "execution_count": 12,
     "metadata": {},
     "output_type": "execute_result"
    }
   ],
   "source": [
    "error = read_csv('../../handson-ml/predictions_error.csv', index_col=0)\n",
    "error"
   ]
  },
  {
   "cell_type": "markdown",
   "metadata": {},
   "source": [
    "### mise en forme de la prédiction"
   ]
  },
  {
   "cell_type": "code",
   "execution_count": 13,
   "metadata": {},
   "outputs": [],
   "source": [
    "# renomme la colonne 1 probability en prédiction\n",
    "myList = list(error.columns)\n",
    "myList[1] = 'Prediction'\n",
    "error.columns = myList"
   ]
  },
  {
   "cell_type": "code",
   "execution_count": 14,
   "metadata": {},
   "outputs": [],
   "source": [
    "error.to_csv(\"predictions_error.csv\")"
   ]
  },
  {
   "cell_type": "code",
   "execution_count": 15,
   "metadata": {},
   "outputs": [],
   "source": [
    "# création de la colonne error\n",
    "error.insert( 2, 'Error', '')"
   ]
  },
  {
   "cell_type": "code",
   "execution_count": 16,
   "metadata": {},
   "outputs": [],
   "source": [
    "# fonction de remplissage de la colonne error\n",
    "def errorPred(row):\n",
    "    if row['SeriousDlqin2yrs'] == 0 and row['Prediction'] == 0:\n",
    "        row['Error'] = 'TN'\n",
    "    if row['SeriousDlqin2yrs'] == 0 and row['Prediction'] == 1:\n",
    "        row['Error'] = 'FP'\n",
    "    if row['SeriousDlqin2yrs'] == 1 and row['Prediction'] == 0:\n",
    "        row['Error'] = 'FN'\n",
    "    if row['SeriousDlqin2yrs'] == 1 and row['Prediction'] == 1:\n",
    "        row['Error'] = 'TP'\n",
    "    return row\n"
   ]
  },
  {
   "cell_type": "code",
   "execution_count": 17,
   "metadata": {},
   "outputs": [],
   "source": [
    "# remplissage de la colonne erreor\n",
    "for df in [error]:\n",
    "    df['Error'] = df[['Error', 'SeriousDlqin2yrs', 'Prediction']].apply(errorPred,axis=1)\n",
    "    \n",
    "error.to_csv(\"predictions_error.csv\")"
   ]
  },
  {
   "cell_type": "markdown",
   "metadata": {},
   "source": [
    "### calcul de la matrice de confusion, accurancy et gain"
   ]
  },
  {
   "cell_type": "code",
   "execution_count": 18,
   "metadata": {},
   "outputs": [
    {
     "data": {
      "text/plain": [
       "      27848\n",
       "TN     2095\n",
       "FN       56\n",
       "FP        1\n",
       "Name: Error, dtype: int64"
      ]
     },
     "execution_count": 18,
     "metadata": {},
     "output_type": "execute_result"
    }
   ],
   "source": [
    "# affichage de la matrice de confusion\n",
    "resultat = error['Error'].value_counts()\n",
    "resultat"
   ]
  },
  {
   "cell_type": "code",
   "execution_count": 19,
   "metadata": {},
   "outputs": [
    {
     "data": {
      "text/plain": [
       "0.48283499446290146"
      ]
     },
     "execution_count": 19,
     "metadata": {},
     "output_type": "execute_result"
    }
   ],
   "source": [
    "# calcul de l'accurancy\n",
    "accuracy = (resultat[0] + resultat[2])/(resultat[0] + resultat[1] + resultat[0] + resultat[3])\n",
    "accuracy"
   ]
  },
  {
   "cell_type": "code",
   "execution_count": 20,
   "metadata": {},
   "outputs": [
    {
     "data": {
      "text/plain": [
       "12874000"
      ]
     },
     "execution_count": 20,
     "metadata": {},
     "output_type": "execute_result"
    }
   ],
   "source": [
    "# calcul de la matrice de gain\n",
    "matrice_gain = resultat[0]*500 - resultat[1]*500 + resultat[2]*0 - resultat[3]*2500\n",
    "matrice_gain"
   ]
  },
  {
   "cell_type": "markdown",
   "metadata": {},
   "source": [
    "### calcul gain en fonction d'une valeur seuil"
   ]
  },
  {
   "cell_type": "code",
   "execution_count": null,
   "metadata": {},
   "outputs": [],
   "source": [
    "# fonction de remplissage de la colonne error en prenant en compte une valeur seuil et retour du gain\n",
    "def gain_seuil(seuil):\n",
    "    def seuil_pred(row, seuil):\n",
    "        if row['1 probability'] > seuil and row['SeriousDlqin2yrs'] == 0:\n",
    "            row['Error'] = 'FP'\n",
    "        if row['1 probability'] > seuil and row['SeriousDlqin2yrs'] == 1:\n",
    "            row['Error'] = 'TP'\n",
    "        if row['1 probability'] < seuil and row['SeriousDlqin2yrs'] == 0:\n",
    "            row['Error'] = 'TN'\n",
    "        if row['1 probability'] < seuil and row['SeriousDlqin2yrs'] == 1:\n",
    "            row['Error'] = 'FN'\n",
    "        return row\n",
    "\n",
    "    for df in [error]:\n",
    "        df['Error'] = df[['Error', '1 probability', 'SeriousDlqin2yrs']].apply(seuil_pred, axis=1, seuil = seuil)\n",
    "\n",
    "    count = error['Error'].value_counts()\n",
    "    gain = 1\n",
    "    if \"TP\" not in  error['Error']:\n",
    "        if \"FP\" not in  error['Error']:\n",
    "            gain = count[0]*500 - count[1]*500\n",
    "        else:\n",
    "            gain = count[0]*500 - count[1]*2500 - count[3]*500\n",
    "    else:\n",
    "        gain = count[0]*500 - count[1]*500 - count[2]*2500\n",
    "        \n",
    "    return gain"
   ]
  },
  {
   "cell_type": "code",
   "execution_count": null,
   "metadata": {},
   "outputs": [],
   "source": [
    "# affichage de la courbe de gzin en fonction de la valeur seuil\n",
    "table = [gain_seuil(n/100) for n in range(1,100)]\n",
    "seuil = [(n/100) for n in range(1,100)]\n",
    "plt.plot(seuil, table)\n",
    "plt.show()"
   ]
  },
  {
   "cell_type": "code",
   "execution_count": null,
   "metadata": {},
   "outputs": [],
   "source": [
    "#calcul de la valeur max du gain et obtention du seuil optimal\n",
    "max_val = max(table)\n",
    "max_seuil = table.index(max_val)/10\n",
    "\n",
    "print(f\"le gain maximum est de {max_val} et il est obtenu en {max_seuil}\")"
   ]
  },
  {
   "cell_type": "code",
   "execution_count": null,
   "metadata": {},
   "outputs": [],
   "source": []
  }
 ],
 "metadata": {
  "kernelspec": {
   "display_name": "Python 3",
   "language": "python",
   "name": "python3"
  },
  "language_info": {
   "codemirror_mode": {
    "name": "ipython",
    "version": 3
   },
   "file_extension": ".py",
   "mimetype": "text/x-python",
   "name": "python",
   "nbconvert_exporter": "python",
   "pygments_lexer": "ipython3",
   "version": "3.7.3"
  }
 },
 "nbformat": 4,
 "nbformat_minor": 2
}
