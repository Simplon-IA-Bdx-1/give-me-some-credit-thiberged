{
 "cells": [
  {
   "cell_type": "code",
   "execution_count": 8,
   "metadata": {},
   "outputs": [],
   "source": [
    "#récupération de l'ap de bigml\n",
    "\n",
    "from bigml.api import BigML\n",
    "from pandas import read_csv\n",
    "from sklearn.metrics import confusion_matrix\n",
    "import pandas as pan\n",
    "import matplotlib.pyplot as plt"
   ]
  },
  {
   "cell_type": "code",
   "execution_count": 9,
   "metadata": {},
   "outputs": [],
   "source": [
    "#charge de l'api bigml pour pouvoir faire appel à ces fonctions\n",
    "\n",
    "api = BigML(project='project/5d94a451eba31d46690001cf')"
   ]
  },
  {
   "cell_type": "markdown",
   "metadata": {},
   "source": [
    "### récupération du fichier train full"
   ]
  },
  {
   "cell_type": "code",
   "execution_count": 10,
   "metadata": {},
   "outputs": [],
   "source": [
    "#récupération du fichier csv bigml à traiter\n",
    "\n",
    "train_full = api.create_source('./train_full.csv')"
   ]
  },
  {
   "cell_type": "code",
   "execution_count": 11,
   "metadata": {},
   "outputs": [
    {
     "data": {
      "text/plain": [
       "True"
      ]
     },
     "execution_count": 11,
     "metadata": {},
     "output_type": "execute_result"
    }
   ],
   "source": [
    "#test des sources\n",
    "\n",
    "api.ok(train_full)"
   ]
  },
  {
   "cell_type": "code",
   "execution_count": 12,
   "metadata": {},
   "outputs": [],
   "source": [
    "#création dataset depuis le fichier csv importer précédement\n",
    "\n",
    "train_full_dataset = api.create_dataset(train_full)"
   ]
  },
  {
   "cell_type": "markdown",
   "metadata": {},
   "source": [
    "### split du fichier train full "
   ]
  },
  {
   "cell_type": "code",
   "execution_count": 13,
   "metadata": {},
   "outputs": [],
   "source": [
    "#split du train full\n",
    "\n",
    "train_dataset = api.create_dataset(\n",
    "    train_full_dataset, {\"name\": \"Train (80%)\",\n",
    "                     \"sample_rate\": 0.8, \"seed\": \"Full train\"})\n",
    "validation_dataset = api.create_dataset(\n",
    "    train_full_dataset, {\"name\": \"Train (20%)\",\n",
    "                     \"sample_rate\": 0.8, \"seed\": \"Full train\",\n",
    "                     \"out_of_bag\": True})"
   ]
  },
  {
   "cell_type": "code",
   "execution_count": 17,
   "metadata": {},
   "outputs": [],
   "source": [
    "# fonction de calcul d'auc dépendant du % de train\n",
    "def auc_ensemble(train_dataset, percent):\n",
    "    train_split = api.create_dataset(\n",
    "        train_dataset, {\"name\": f\"Train_split ({percent}%)\",\n",
    "                     \"sample_rate\": percent/100, \"seed\": \"train\"})\n",
    "    \n",
    "    ensemble = api.create_ensemble([train_split],{\"objective_field\":\"SeriousDlqin2yrs\"})\n",
    "    batch_prediction = api.create_batch_prediction(ensemble, train_split, {\"all_fields\":True, \"probabilities\":True, 'prediction_name':'Prediction'})\n",
    "    api.ok(batch_prediction)\n",
    "    api.download_batch_prediction(batch_prediction, filename='./predictions_split.csv')\n",
    "    error = read_csv('./predictions_split.csv', index_col=0)\n",
    "    error.to_csv('./predictions_split.csv', index=False)\n",
    "    \n",
    "    pos = error.loc[error['SeriousDlqin2yrs'] == 1] # Tous les Positif  \n",
    "    neg = error.loc[error['SeriousDlqin2yrs'] == 0] # Tous les negatifs  \n",
    "    x = 0 \n",
    "    y = 0 # pour chaque 1 proba ( P ) dans toutes les 1 proba (P)\n",
    "    for threshold_pos in pos['1 probability']: # pour chaque 1 Proba ( N ) dans toutes les 1 proba ( N )     \n",
    "        for threshold_neg in neg['1 probability']:         \n",
    "            if threshold_pos > threshold_neg:             \n",
    "                x += 1          \n",
    "            y += 1 \n",
    "    return x/y\n"
   ]
  },
  {
   "cell_type": "code",
   "execution_count": null,
   "metadata": {},
   "outputs": [],
   "source": [
    "# fonction de calcul d'auc dépendant du % de train\n",
    "def auc_deepnet(train_dataset, percent):\n",
    "    train_split = api.create_dataset(\n",
    "        train_dataset, {\"name\": f\"Train_split ({percent}%)\",\n",
    "                     \"sample_rate\": percent/100, \"seed\": \"train\"})\n",
    "    \n",
    "    deepnet = api.create_deepnet([train_split],{\"objective_field\":\"SeriousDlqin2yrs\"})\n",
    "    batch_prediction = api.create_batch_prediction(deepnet, train_split, {\"all_fields\":True, \"probabilities\":True, 'prediction_name':'Prediction'})\n",
    "    api.ok(batch_prediction)\n",
    "    api.download_batch_prediction(batch_prediction, filename='./predictions_split.csv')\n",
    "    error = read_csv('./predictions_split.csv', index_col=0)\n",
    "    error.to_csv('./predictions_split.csv', index=False)\n",
    "    \n",
    "    pos = error.loc[error['SeriousDlqin2yrs'] == 1] # Tous les Positif  \n",
    "    neg = error.loc[error['SeriousDlqin2yrs'] == 0] # Tous les negatifs  \n",
    "    x = 0 \n",
    "    y = 0 # pour chaque 1 proba ( P ) dans toutes les 1 proba (P)\n",
    "    for threshold_pos in pos['1 probability']: # pour chaque 1 Proba ( N ) dans toutes les 1 proba ( N )     \n",
    "        for threshold_neg in neg['1 probability']:         \n",
    "            if threshold_pos > threshold_neg:             \n",
    "                x += 1          \n",
    "            y += 1 \n",
    "    return x/y\n"
   ]
  },
  {
   "cell_type": "code",
   "execution_count": 18,
   "metadata": {},
   "outputs": [
    {
     "data": {
      "image/png": "[encoded data removed]",
      "text/plain": [
       "<Figure size 432x288 with 1 Axes>"
      ]
     },
     "metadata": {
      "needs_background": "light"
     },
     "output_type": "display_data"
    }
   ],
   "source": [
    "# affichage de la courbe de gzin en fonction de la valeur seuil\n",
    "auc_ensemble = [auc_ensemble(train_dataset, n) for n in range(10,100,10)]\n",
    "auc_deepnet = [auc_deepnet(train_dataset, n) for n in range(10,100,10)]\n",
    "per = [(n) for n in range(10,100,10)]\n",
    "plt.plot(per, [auc_ensemble, auc_deepnet])\n",
    "plt.show()"
   ]
  },
  {
   "cell_type": "code",
   "execution_count": 19,
   "metadata": {},
   "outputs": [
    {
     "data": {
      "text/plain": [
       "[0.9597460100520048,\n",
       " 0.9233318316206982,\n",
       " 0.9022707082874648,\n",
       " 0.8986534719335015,\n",
       " 0.8926285647598008,\n",
       " 0.8862444268665759,\n",
       " 0.8824844589519866,\n",
       " 0.8817360801295293,\n",
       " 0.8816443265692138]"
      ]
     },
     "execution_count": 19,
     "metadata": {},
     "output_type": "execute_result"
    }
   ],
   "source": [
    "auc"
   ]
  },
  {
   "cell_type": "code",
   "execution_count": null,
   "metadata": {},
   "outputs": [],
   "source": []
  }
 ],
 "metadata": {
  "celltoolbar": "Diaporama",
  "kernelspec": {
   "display_name": "Python 3",
   "language": "python",
   "name": "python3"
  },
  "language_info": {
   "codemirror_mode": {
    "name": "ipython",
    "version": 3
   },
   "file_extension": ".py",
   "mimetype": "text/x-python",
   "name": "python",
   "nbconvert_exporter": "python",
   "pygments_lexer": "ipython3",
   "version": "3.7.3"
  }
 },
 "nbformat": 4,
 "nbformat_minor": 2
}
