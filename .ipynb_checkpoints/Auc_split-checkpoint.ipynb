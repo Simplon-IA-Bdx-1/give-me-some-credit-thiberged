{
 "cells": [
  {
   "cell_type": "code",
   "execution_count": 43,
   "metadata": {},
   "outputs": [],
   "source": [
    "#récupération de l'ap de bigml\n",
    "\n",
    "from bigml.api import BigML\n",
    "from pandas import read_csv\n",
    "from sklearn.metrics import confusion_matrix\n",
    "from sklearn.metrics import roc_auc_score\n",
    "import pandas as pan\n",
    "import matplotlib.pyplot as plt\n",
    "import numpy as np"
   ]
  },
  {
   "cell_type": "code",
   "execution_count": 12,
   "metadata": {},
   "outputs": [],
   "source": [
    "#charge de l'api bigml pour pouvoir faire appel à ces fonctions\n",
    "\n",
    "api = BigML(project='project/5d94a451eba31d46690001cf')"
   ]
  },
  {
   "cell_type": "markdown",
   "metadata": {},
   "source": [
    "### récupération du fichier train full"
   ]
  },
  {
   "cell_type": "code",
   "execution_count": 13,
   "metadata": {},
   "outputs": [],
   "source": [
    "#récupération du fichier csv bigml à traiter\n",
    "train_full = api.create_source('./train_full.csv')\n",
    "\n",
    "#test des sources\n",
    "api.ok(train_full)\n",
    "\n",
    "#création dataset depuis le fichier csv importer précédement\n",
    "train_full_dataset = api.create_dataset(train_full)"
   ]
  },
  {
   "cell_type": "markdown",
   "metadata": {},
   "source": [
    "### split du fichier train full "
   ]
  },
  {
   "cell_type": "code",
   "execution_count": 14,
   "metadata": {},
   "outputs": [],
   "source": [
    "#split du train full\n",
    "\n",
    "train_dataset = api.create_dataset(\n",
    "    train_full_dataset, {\"name\": \"Train (80%)\",\n",
    "                     \"sample_rate\": 0.8, \"seed\": \"Full train\"})\n",
    "validation_dataset = api.create_dataset(\n",
    "    train_full_dataset, {\"name\": \"Train (20%)\",\n",
    "                     \"sample_rate\": 0.8, \"seed\": \"Full train\",\n",
    "                     \"out_of_bag\": True})"
   ]
  },
  {
   "cell_type": "code",
   "execution_count": 15,
   "metadata": {},
   "outputs": [],
   "source": [
    "#split du train\n",
    "def split(percent):\n",
    "    train_split = api.create_dataset(\n",
    "                    train_full_dataset, {\"name\": \"Train (80%)\",\n",
    "                     \"sample_rate\": percent, \"seed\": \"Full train\"})\n",
    "    api.ok(train_split)\n",
    "    return train_split"
   ]
  },
  {
   "cell_type": "code",
   "execution_count": 16,
   "metadata": {},
   "outputs": [],
   "source": [
    "#train suivant les differents percent\n",
    "split_10 = split(1/10)\n",
    "split_20 = split(2/10)\n",
    "split_30 = split(3/10)\n",
    "split_40 = split(4/10)\n",
    "split_50 = split(5/10)\n",
    "split_60 = split(6/10)\n",
    "split_70 = split(7/10)\n",
    "split_80 = split(8/10)\n",
    "split_90 = split(9/10)\n",
    "split_100 = split(10/10)"
   ]
  },
  {
   "cell_type": "markdown",
   "metadata": {},
   "source": [
    "## calcul des models"
   ]
  },
  {
   "cell_type": "code",
   "execution_count": 17,
   "metadata": {},
   "outputs": [],
   "source": [
    "# fonction de calcul du model ensemble\n",
    "def ensemble(train):\n",
    "    ensemble = api.create_ensemble(train,{\"objective_field\":\"SeriousDlqin2yrs\"})\n",
    "    api.ok(ensemble)\n",
    "    return ensemble"
   ]
  },
  {
   "cell_type": "code",
   "execution_count": 18,
   "metadata": {},
   "outputs": [],
   "source": [
    "# fonction de calcul du model deepnet\n",
    "def deepnet(train):\n",
    "    deepnet = api.create_deepnet(train,{\"objective_field\":\"SeriousDlqin2yrs\"})\n",
    "    api.ok(deepnet)\n",
    "    return deepnet"
   ]
  },
  {
   "cell_type": "code",
   "execution_count": 22,
   "metadata": {},
   "outputs": [],
   "source": [
    "# model ensemble\n",
    "ensemble_10 = ensemble(split_10)\n",
    "ensemble_20 = ensemble(split_20)\n",
    "ensemble_30 = ensemble(split_30)\n",
    "ensemble_40 = ensemble(split_40)\n",
    "ensemble_50 = ensemble(split_50)\n",
    "ensemble_60 = ensemble(split_60)\n",
    "ensemble_70 = ensemble(split_70)\n",
    "ensemble_80 = ensemble(split_80)\n",
    "ensemble_90 = ensemble(split_90)\n",
    "ensemble_100 = ensemble(split_100)"
   ]
  },
  {
   "cell_type": "code",
   "execution_count": 23,
   "metadata": {},
   "outputs": [],
   "source": [
    "# model deepnet\n",
    "deepnet_10 = deepnet(split_10)\n",
    "deepnet_20 = deepnet(split_20)\n",
    "deepnet_30 = deepnet(split_30)\n",
    "deepnet_40 = deepnet(split_40)\n",
    "deepnet_50 = deepnet(split_50)\n",
    "deepnet_60 = deepnet(split_60)\n",
    "deepnet_70 = deepnet(split_70)\n",
    "deepnet_80 = deepnet(split_80)\n",
    "deepnet_90 = deepnet(split_90)\n",
    "deepnet_100 = deepnet(split_100)"
   ]
  },
  {
   "cell_type": "markdown",
   "metadata": {},
   "source": [
    "## prédictions à partir d'un model"
   ]
  },
  {
   "cell_type": "code",
   "execution_count": 26,
   "metadata": {},
   "outputs": [],
   "source": [
    "def batchprediction(model, train):\n",
    "    batch_prediction = api.create_batch_prediction(model, train,{\"header\": True, \"all_fields\": True,\n",
    "                                                  \"prediction_name\": \"my_prediction\", \"probabilities\": True})\n",
    "    api.ok(batch_prediction)\n",
    "    return batch_prediction"
   ]
  },
  {
   "cell_type": "code",
   "execution_count": 27,
   "metadata": {},
   "outputs": [
    {
     "data": {
      "text/plain": [
       "'BatchPrediction/prediction_dee_spl_10.csv'"
      ]
     },
     "execution_count": 27,
     "metadata": {},
     "output_type": "execute_result"
    }
   ],
   "source": [
    "# calcul des prédictions avec 10 percent\n",
    "prediction_ens_val_10 = batchprediction(ensemble_10, validation_dataset)\n",
    "api.download_batch_prediction(prediction_ens_val_10,filename='BatchPrediction/prediction_ens_val_10.csv')\n",
    "\n",
    "prediction_dee_val_10 = batchprediction(deepnet_10, validation_dataset)\n",
    "api.download_batch_prediction(prediction_dee_val_10,filename='BatchPrediction/prediction_dee_val_10.csv')\n",
    "\n",
    "prediction_ens_spl_10 = batchprediction(ensemble_10, split_10)\n",
    "api.download_batch_prediction(prediction_ens_spl_10,filename='BatchPrediction/prediction_ens_spl_10.csv')\n",
    "\n",
    "prediction_dee_spl_10 = batchprediction(deepnet_10, split_10)\n",
    "api.download_batch_prediction(prediction_dee_spl_10,filename='BatchPrediction/prediction_dee_spl_10.csv')"
   ]
  },
  {
   "cell_type": "code",
   "execution_count": 28,
   "metadata": {},
   "outputs": [
    {
     "data": {
      "text/plain": [
       "'BatchPrediction/prediction_dee_spl_20.csv'"
      ]
     },
     "execution_count": 28,
     "metadata": {},
     "output_type": "execute_result"
    }
   ],
   "source": [
    "# calcul des prédictions avec 20 percent\n",
    "prediction_ens_val_20 = batchprediction(ensemble_20, validation_dataset)\n",
    "api.download_batch_prediction(prediction_ens_val_20,filename='BatchPrediction/prediction_ens_val_20.csv')\n",
    "\n",
    "prediction_dee_val_20 = batchprediction(deepnet_20, validation_dataset)\n",
    "api.download_batch_prediction(prediction_dee_val_20,filename='BatchPrediction/prediction_dee_val_20.csv')\n",
    "\n",
    "prediction_ens_spl_20 = batchprediction(ensemble_20, split_20)\n",
    "api.download_batch_prediction(prediction_ens_spl_20,filename='BatchPrediction/prediction_ens_spl_20.csv')\n",
    "\n",
    "prediction_dee_spl_20 = batchprediction(deepnet_20, split_20)\n",
    "api.download_batch_prediction(prediction_dee_spl_20,filename='BatchPrediction/prediction_dee_spl_20.csv')"
   ]
  },
  {
   "cell_type": "code",
   "execution_count": 30,
   "metadata": {},
   "outputs": [
    {
     "data": {
      "text/plain": [
       "'BatchPrediction/prediction_dee_spl_30.csv'"
      ]
     },
     "execution_count": 30,
     "metadata": {},
     "output_type": "execute_result"
    }
   ],
   "source": [
    "# calcul des prédictions avec 30 percent\n",
    "prediction_ens_val_30 = batchprediction(ensemble_30, validation_dataset)\n",
    "api.download_batch_prediction(prediction_ens_val_30,filename='BatchPrediction/prediction_ens_val_30.csv')\n",
    "\n",
    "prediction_dee_val_30 = batchprediction(deepnet_30, validation_dataset)\n",
    "api.download_batch_prediction(prediction_dee_val_30,filename='BatchPrediction/prediction_dee_val_30.csv')\n",
    "\n",
    "prediction_ens_spl_30 = batchprediction(ensemble_30, split_30)\n",
    "api.download_batch_prediction(prediction_ens_spl_30,filename='BatchPrediction/prediction_ens_spl_30.csv')\n",
    "\n",
    "prediction_dee_spl_30 = batchprediction(deepnet_30, split_30)\n",
    "api.download_batch_prediction(prediction_dee_spl_30,filename='BatchPrediction/prediction_dee_spl_30.csv')"
   ]
  },
  {
   "cell_type": "code",
   "execution_count": 31,
   "metadata": {},
   "outputs": [
    {
     "data": {
      "text/plain": [
       "'BatchPrediction/prediction_dee_spl_40.csv'"
      ]
     },
     "execution_count": 31,
     "metadata": {},
     "output_type": "execute_result"
    }
   ],
   "source": [
    "# calcul des prédictions avec 40 percent\n",
    "prediction_ens_val_40 = batchprediction(ensemble_40, validation_dataset)\n",
    "api.download_batch_prediction(prediction_ens_val_40,filename='BatchPrediction/prediction_ens_val_40.csv')\n",
    "\n",
    "prediction_dee_val_40 = batchprediction(deepnet_40, validation_dataset)\n",
    "api.download_batch_prediction(prediction_dee_val_40,filename='BatchPrediction/prediction_dee_val_40.csv')\n",
    "\n",
    "prediction_ens_spl_40 = batchprediction(ensemble_40, split_40)\n",
    "api.download_batch_prediction(prediction_ens_spl_40,filename='BatchPrediction/prediction_ens_spl_40.csv')\n",
    "\n",
    "prediction_dee_spl_40 = batchprediction(deepnet_40, split_40)\n",
    "api.download_batch_prediction(prediction_dee_spl_40,filename='BatchPrediction/prediction_dee_spl_40.csv')"
   ]
  },
  {
   "cell_type": "code",
   "execution_count": 32,
   "metadata": {},
   "outputs": [
    {
     "data": {
      "text/plain": [
       "'BatchPrediction/prediction_dee_spl_50.csv'"
      ]
     },
     "execution_count": 32,
     "metadata": {},
     "output_type": "execute_result"
    }
   ],
   "source": [
    "# calcul des prédictions avec 50 percent\n",
    "prediction_ens_val_50 = batchprediction(ensemble_50, validation_dataset)\n",
    "api.download_batch_prediction(prediction_ens_val_50,filename='BatchPrediction/prediction_ens_val_50.csv')\n",
    "\n",
    "prediction_dee_val_50 = batchprediction(deepnet_50, validation_dataset)\n",
    "api.download_batch_prediction(prediction_dee_val_50,filename='BatchPrediction/prediction_dee_val_50.csv')\n",
    "\n",
    "prediction_ens_spl_50 = batchprediction(ensemble_50, split_50)\n",
    "api.download_batch_prediction(prediction_ens_spl_50,filename='BatchPrediction/prediction_ens_spl_50.csv')\n",
    "\n",
    "prediction_dee_spl_50 = batchprediction(deepnet_50, split_50)\n",
    "api.download_batch_prediction(prediction_dee_spl_50,filename='BatchPrediction/prediction_dee_spl_50.csv')"
   ]
  },
  {
   "cell_type": "code",
   "execution_count": 33,
   "metadata": {},
   "outputs": [
    {
     "data": {
      "text/plain": [
       "'BatchPrediction/prediction_dee_spl_60.csv'"
      ]
     },
     "execution_count": 33,
     "metadata": {},
     "output_type": "execute_result"
    }
   ],
   "source": [
    "# calcul des prédictions avec 60 percent\n",
    "prediction_ens_val_60 = batchprediction(ensemble_60, validation_dataset)\n",
    "api.download_batch_prediction(prediction_ens_val_60,filename='BatchPrediction/prediction_ens_val_60.csv')\n",
    "\n",
    "prediction_dee_val_60 = batchprediction(deepnet_60, validation_dataset)\n",
    "api.download_batch_prediction(prediction_dee_val_60,filename='BatchPrediction/prediction_dee_val_60.csv')\n",
    "\n",
    "prediction_ens_spl_60 = batchprediction(ensemble_60, split_60)\n",
    "api.download_batch_prediction(prediction_ens_spl_60,filename='BatchPrediction/prediction_ens_spl_60.csv')\n",
    "\n",
    "prediction_dee_spl_60 = batchprediction(deepnet_60, split_60)\n",
    "api.download_batch_prediction(prediction_dee_spl_60,filename='BatchPrediction/prediction_dee_spl_60.csv')"
   ]
  },
  {
   "cell_type": "code",
   "execution_count": 35,
   "metadata": {},
   "outputs": [
    {
     "data": {
      "text/plain": [
       "'BatchPrediction/prediction_dee_spl_70.csv'"
      ]
     },
     "execution_count": 35,
     "metadata": {},
     "output_type": "execute_result"
    }
   ],
   "source": [
    "# calcul des prédictions avec 70 percent\n",
    "prediction_ens_val_70 = batchprediction(ensemble_70, validation_dataset)\n",
    "api.download_batch_prediction(prediction_ens_val_70,filename='BatchPrediction/prediction_ens_val_70.csv')\n",
    "\n",
    "prediction_dee_val_70 = batchprediction(deepnet_70, validation_dataset)\n",
    "api.download_batch_prediction(prediction_dee_val_70,filename='BatchPrediction/prediction_dee_val_70.csv')\n",
    "\n",
    "prediction_ens_spl_70 = batchprediction(ensemble_70, split_70)\n",
    "api.download_batch_prediction(prediction_ens_spl_70,filename='BatchPrediction/prediction_ens_spl_70.csv')\n",
    "\n",
    "prediction_dee_spl_70 = batchprediction(deepnet_70, split_70)\n",
    "api.download_batch_prediction(prediction_dee_spl_70,filename='BatchPrediction/prediction_dee_spl_70.csv')"
   ]
  },
  {
   "cell_type": "code",
   "execution_count": 36,
   "metadata": {},
   "outputs": [
    {
     "data": {
      "text/plain": [
       "'BatchPrediction/prediction_dee_spl_80.csv'"
      ]
     },
     "execution_count": 36,
     "metadata": {},
     "output_type": "execute_result"
    }
   ],
   "source": [
    "# calcul des prédictions avec 10 percent\n",
    "prediction_ens_val_80 = batchprediction(ensemble_80, validation_dataset)\n",
    "api.download_batch_prediction(prediction_ens_val_80,filename='BatchPrediction/prediction_ens_val_80.csv')\n",
    "\n",
    "prediction_dee_val_80 = batchprediction(deepnet_80, validation_dataset)\n",
    "api.download_batch_prediction(prediction_dee_val_80,filename='BatchPrediction/prediction_dee_val_80.csv')\n",
    "\n",
    "prediction_ens_spl_80 = batchprediction(ensemble_80, split_80)\n",
    "api.download_batch_prediction(prediction_ens_spl_80,filename='BatchPrediction/prediction_ens_spl_80.csv')\n",
    "\n",
    "prediction_dee_spl_80 = batchprediction(deepnet_80, split_80)\n",
    "api.download_batch_prediction(prediction_dee_spl_80,filename='BatchPrediction/prediction_dee_spl_80.csv')"
   ]
  },
  {
   "cell_type": "code",
   "execution_count": 37,
   "metadata": {},
   "outputs": [
    {
     "data": {
      "text/plain": [
       "'BatchPrediction/prediction_dee_spl_90.csv'"
      ]
     },
     "execution_count": 37,
     "metadata": {},
     "output_type": "execute_result"
    }
   ],
   "source": [
    "# calcul des prédictions avec 90 percent\n",
    "prediction_ens_val_90 = batchprediction(ensemble_90, validation_dataset)\n",
    "api.download_batch_prediction(prediction_ens_val_90,filename='BatchPrediction/prediction_ens_val_90.csv')\n",
    "\n",
    "prediction_dee_val_90 = batchprediction(deepnet_90, validation_dataset)\n",
    "api.download_batch_prediction(prediction_dee_val_90,filename='BatchPrediction/prediction_dee_val_90.csv')\n",
    "\n",
    "prediction_ens_spl_90 = batchprediction(ensemble_90, split_90)\n",
    "api.download_batch_prediction(prediction_ens_spl_90,filename='BatchPrediction/prediction_ens_spl_90.csv')\n",
    "\n",
    "prediction_dee_spl_90 = batchprediction(deepnet_90, split_90)\n",
    "api.download_batch_prediction(prediction_dee_spl_90,filename='BatchPrediction/prediction_dee_spl_90.csv')"
   ]
  },
  {
   "cell_type": "code",
   "execution_count": 38,
   "metadata": {},
   "outputs": [
    {
     "data": {
      "text/plain": [
       "'BatchPrediction/prediction_dee_spl_100.csv'"
      ]
     },
     "execution_count": 38,
     "metadata": {},
     "output_type": "execute_result"
    }
   ],
   "source": [
    "# calcul des prédictions avec 100 percent\n",
    "prediction_ens_val_100 = batchprediction(ensemble_100, validation_dataset)\n",
    "api.download_batch_prediction(prediction_ens_val_100,filename='BatchPrediction/prediction_ens_val_100.csv')\n",
    "\n",
    "prediction_dee_val_100 = batchprediction(deepnet_100, validation_dataset)\n",
    "api.download_batch_prediction(prediction_dee_val_100,filename='BatchPrediction/prediction_dee_val_100.csv')\n",
    "\n",
    "prediction_ens_spl_100 = batchprediction(ensemble_100, split_100)\n",
    "api.download_batch_prediction(prediction_ens_spl_100,filename='BatchPrediction/prediction_ens_spl_100.csv')\n",
    "\n",
    "prediction_dee_spl_100 = batchprediction(deepnet_100, split_100)\n",
    "api.download_batch_prediction(prediction_dee_spl_100,filename='BatchPrediction/prediction_dee_spl_100.csv')"
   ]
  },
  {
   "cell_type": "markdown",
   "metadata": {},
   "source": [
    "## calcul de l'auc"
   ]
  },
  {
   "cell_type": "code",
   "execution_count": 39,
   "metadata": {},
   "outputs": [],
   "source": [
    "# fonction de calcul\n",
    "def auc(csv):\n",
    "    actual = csv['SeriousDlqin2yrs']\n",
    "    pred = csv['1 probability']\n",
    "    auc = np.float64(roc_auc_score(actual, pred))\n",
    "    return np.float64(auc)"
   ]
  },
  {
   "cell_type": "markdown",
   "metadata": {},
   "source": [
    "## création de liste"
   ]
  },
  {
   "cell_type": "code",
   "execution_count": 44,
   "metadata": {},
   "outputs": [
    {
     "name": "stdout",
     "output_type": "stream",
     "text": [
      "[0.8364160840425419, 0.8490569647825097, 0.850304427735143, 0.8503588935173586, 0.8533257933808559, 0.8554523640330267, 0.8553802904299662, 0.8570404871647871, 0.8638270277321742, 0.8718466901218636]\n"
     ]
    }
   ],
   "source": [
    "# liste ensemble avec validation\n",
    "prediction_ens_val_10 = read_csv('BatchPrediction/prediction_ens_val_10.csv', index_col = 0)\n",
    "prediction_ens_val_20 = read_csv('BatchPrediction/prediction_ens_val_20.csv', index_col = 0)\n",
    "prediction_ens_val_30 = read_csv('BatchPrediction/prediction_ens_val_30.csv', index_col = 0)\n",
    "prediction_ens_val_40 = read_csv('BatchPrediction/prediction_ens_val_40.csv', index_col = 0)\n",
    "prediction_ens_val_50 = read_csv('BatchPrediction/prediction_ens_val_50.csv', index_col = 0)\n",
    "prediction_ens_val_60 = read_csv('BatchPrediction/prediction_ens_val_60.csv', index_col = 0)\n",
    "prediction_ens_val_70 = read_csv('BatchPrediction/prediction_ens_val_70.csv', index_col = 0)\n",
    "prediction_ens_val_80 = read_csv('BatchPrediction/prediction_ens_val_80.csv', index_col = 0)\n",
    "prediction_ens_val_90 = read_csv('BatchPrediction/prediction_ens_val_90.csv', index_col = 0)\n",
    "prediction_ens_val_100 = read_csv('BatchPrediction/prediction_ens_val_100.csv', index_col = 0)\n",
    "\n",
    "auc_ens_val = [\n",
    "    auc(prediction_ens_val_10),\n",
    "    auc(prediction_ens_val_20),\n",
    "    auc(prediction_ens_val_30),\n",
    "    auc(prediction_ens_val_40),\n",
    "    auc(prediction_ens_val_50),\n",
    "    auc(prediction_ens_val_60),\n",
    "    auc(prediction_ens_val_70),\n",
    "    auc(prediction_ens_val_80),\n",
    "    auc(prediction_ens_val_90),\n",
    "    auc(prediction_ens_val_100)\n",
    "]\n",
    "\n",
    "print(auc_ens_val)"
   ]
  },
  {
   "cell_type": "code",
   "execution_count": 45,
   "metadata": {},
   "outputs": [
    {
     "name": "stdout",
     "output_type": "stream",
     "text": [
      "[0.9549867708818144, 0.9119727066653077, 0.8978915952761592, 0.891410933892929, 0.8875032388122011, 0.8858586634114166, 0.8821083023114047, 0.8793814237217498, 0.8766905021280336, 0.8755760484611501]\n"
     ]
    }
   ],
   "source": [
    "# liste ensemble avec split\n",
    "prediction_ens_spl_10 = read_csv('BatchPrediction/prediction_ens_spl_10.csv', index_col = 0)\n",
    "prediction_ens_spl_20 = read_csv('BatchPrediction/prediction_ens_spl_20.csv', index_col = 0)\n",
    "prediction_ens_spl_30 = read_csv('BatchPrediction/prediction_ens_spl_30.csv', index_col = 0)\n",
    "prediction_ens_spl_40 = read_csv('BatchPrediction/prediction_ens_spl_40.csv', index_col = 0)\n",
    "prediction_ens_spl_50 = read_csv('BatchPrediction/prediction_ens_spl_50.csv', index_col = 0)\n",
    "prediction_ens_spl_60 = read_csv('BatchPrediction/prediction_ens_spl_60.csv', index_col = 0)\n",
    "prediction_ens_spl_70 = read_csv('BatchPrediction/prediction_ens_spl_70.csv', index_col = 0)\n",
    "prediction_ens_spl_80 = read_csv('BatchPrediction/prediction_ens_spl_80.csv', index_col = 0)\n",
    "prediction_ens_spl_90 = read_csv('BatchPrediction/prediction_ens_spl_90.csv', index_col = 0)\n",
    "prediction_ens_spl_100 = read_csv('BatchPrediction/prediction_ens_spl_100.csv', index_col = 0)\n",
    "\n",
    "auc_ens_spl = [\n",
    "    auc(prediction_ens_spl_10),\n",
    "    auc(prediction_ens_spl_20),\n",
    "    auc(prediction_ens_spl_30),\n",
    "    auc(prediction_ens_spl_40),\n",
    "    auc(prediction_ens_spl_50),\n",
    "    auc(prediction_ens_spl_60),\n",
    "    auc(prediction_ens_spl_70),\n",
    "    auc(prediction_ens_spl_80),\n",
    "    auc(prediction_ens_spl_90),\n",
    "    auc(prediction_ens_spl_100)\n",
    "]\n",
    "\n",
    "print(auc_ens_spl)"
   ]
  },
  {
   "cell_type": "code",
   "execution_count": 46,
   "metadata": {},
   "outputs": [
    {
     "name": "stdout",
     "output_type": "stream",
     "text": [
      "[0.8364160840425419, 0.8490569647825097, 0.850304427735143, 0.8503588935173586, 0.8533257933808559, 0.8554523640330267, 0.8553802904299662, 0.8570404871647871, 0.8638270277321742, 0.8718466901218636]\n"
     ]
    }
   ],
   "source": [
    "# liste deepnet avec validation\n",
    "prediction_dee_val_10 = read_csv('BatchPrediction/prediction_dee_val_10.csv', index_col = 0)\n",
    "prediction_dee_val_20 = read_csv('BatchPrediction/prediction_dee_val_20.csv', index_col = 0)\n",
    "prediction_dee_val_30 = read_csv('BatchPrediction/prediction_dee_val_30.csv', index_col = 0)\n",
    "prediction_dee_val_40 = read_csv('BatchPrediction/prediction_dee_val_40.csv', index_col = 0)\n",
    "prediction_dee_val_50 = read_csv('BatchPrediction/prediction_dee_val_50.csv', index_col = 0)\n",
    "prediction_dee_val_60 = read_csv('BatchPrediction/prediction_dee_val_60.csv', index_col = 0)\n",
    "prediction_dee_val_70 = read_csv('BatchPrediction/prediction_dee_val_70.csv', index_col = 0)\n",
    "prediction_dee_val_80 = read_csv('BatchPrediction/prediction_dee_val_80.csv', index_col = 0)\n",
    "prediction_dee_val_90 = read_csv('BatchPrediction/prediction_dee_val_90.csv', index_col = 0)\n",
    "prediction_dee_val_100 = read_csv('BatchPrediction/prediction_dee_val_100.csv', index_col = 0)\n",
    "\n",
    "auc_dee_val = [\n",
    "    auc(prediction_dee_val_10),\n",
    "    auc(prediction_dee_val_20),\n",
    "    auc(prediction_dee_val_30),\n",
    "    auc(prediction_dee_val_40),\n",
    "    auc(prediction_dee_val_50),\n",
    "    auc(prediction_dee_val_60),\n",
    "    auc(prediction_dee_val_70),\n",
    "    auc(prediction_dee_val_80),\n",
    "    auc(prediction_dee_val_90),\n",
    "    auc(prediction_dee_val_100)\n",
    "]\n",
    "\n",
    "print(auc_dee_val)"
   ]
  },
  {
   "cell_type": "code",
   "execution_count": 47,
   "metadata": {},
   "outputs": [
    {
     "name": "stdout",
     "output_type": "stream",
     "text": [
      "[0.9549867708818144, 0.9119727066653077, 0.8978915952761592, 0.891410933892929, 0.8875032388122011, 0.8858586634114166, 0.8821083023114047, 0.8793814237217498, 0.8766905021280336, 0.8755760484611501]\n"
     ]
    }
   ],
   "source": [
    "# liste deepnet avec split\n",
    "prediction_dee_spl_10 = read_csv('BatchPrediction/prediction_dee_spl_10.csv', index_col = 0)\n",
    "prediction_dee_spl_20 = read_csv('BatchPrediction/prediction_dee_spl_20.csv', index_col = 0)\n",
    "prediction_dee_spl_30 = read_csv('BatchPrediction/prediction_dee_spl_30.csv', index_col = 0)\n",
    "prediction_dee_spl_40 = read_csv('BatchPrediction/prediction_dee_spl_40.csv', index_col = 0)\n",
    "prediction_dee_spl_50 = read_csv('BatchPrediction/prediction_dee_spl_50.csv', index_col = 0)\n",
    "prediction_dee_spl_60 = read_csv('BatchPrediction/prediction_dee_spl_60.csv', index_col = 0)\n",
    "prediction_dee_spl_70 = read_csv('BatchPrediction/prediction_dee_spl_70.csv', index_col = 0)\n",
    "prediction_dee_spl_80 = read_csv('BatchPrediction/prediction_dee_spl_80.csv', index_col = 0)\n",
    "prediction_dee_spl_90 = read_csv('BatchPrediction/prediction_dee_spl_90.csv', index_col = 0)\n",
    "prediction_dee_spl_100 = read_csv('BatchPrediction/prediction_dee_spl_100.csv', index_col = 0)\n",
    "\n",
    "auc_dee_spl = [\n",
    "    auc(prediction_dee_spl_10),\n",
    "    auc(prediction_dee_spl_20),\n",
    "    auc(prediction_dee_spl_30),\n",
    "    auc(prediction_dee_spl_40),\n",
    "    auc(prediction_dee_spl_50),\n",
    "    auc(prediction_dee_spl_60),\n",
    "    auc(prediction_dee_spl_70),\n",
    "    auc(prediction_dee_spl_80),\n",
    "    auc(prediction_dee_spl_90),\n",
    "    auc(prediction_dee_spl_100)\n",
    "]\n",
    "\n",
    "print(auc_dee_spl)"
   ]
  },
  {
   "cell_type": "markdown",
   "metadata": {},
   "source": [
    "## taille du train pour déterminer l'axe des abscisses des graphiques"
   ]
  },
  {
   "cell_type": "code",
   "execution_count": 49,
   "metadata": {},
   "outputs": [
    {
     "name": "stdout",
     "output_type": "stream",
     "text": [
      "[12000.0, 24000.0, 36000.0, 48000.0, 60000.0, 72000.0, 84000.0, 96000.0, 108000.0, 120000.0]\n"
     ]
    }
   ],
   "source": [
    "n = 10\n",
    "train_size = []\n",
    "while n <= 100:\n",
    "    train_size_1 = 120000*(n/100)\n",
    "    train_size.append(train_size_1)\n",
    "    n += 10\n",
    "\n",
    "print(train_size)"
   ]
  },
  {
   "cell_type": "code",
   "execution_count": 50,
   "metadata": {},
   "outputs": [
    {
     "data": {
      "text/plain": [
       "<matplotlib.legend.Legend at 0x7fbeff467668>"
      ]
     },
     "execution_count": 50,
     "metadata": {},
     "output_type": "execute_result"
    },
    {
     "data": {
      "image/png": "[encoded data removed]",
      "text/plain": [
       "<Figure size 432x288 with 1 Axes>"
      ]
     },
     "metadata": {
      "needs_background": "light"
     },
     "output_type": "display_data"
    }
   ],
   "source": [
    "# performance ensemble train sur validation\n",
    "plt.grid()\n",
    "plt.axhline(y=0.87, color = 'red', label=\"Desired Performance\")\n",
    "plt.ylim(0.8,0.9)\n",
    "plt.plot(train_size, auc_ens_val, label= \"Ensemble_sur_validation\")\n",
    "plt.legend(loc='lower right')"
   ]
  },
  {
   "cell_type": "code",
   "execution_count": 51,
   "metadata": {},
   "outputs": [],
   "source": [
    "# fonction de creation de graphe en fonction des pred\n",
    "def graph(list1, list2, list3):\n",
    "    plt.grid()\n",
    "    plt.axhline(y=0.87, color= 'red', label=\"Desired Performance\")\n",
    "    plt.rcParams['figure.figsize'] = [15 , 6]\n",
    "    plt.ylim(0.80,1)\n",
    "    plt.plot(list1, list2, color= 'blue')\n",
    "    plt.plot(list1, list3, color= 'green')\n",
    "    plt.legend(loc='lower right')\n",
    "    plt.show()"
   ]
  },
  {
   "cell_type": "markdown",
   "metadata": {},
   "source": [
    "## affichage des graphiques"
   ]
  },
  {
   "cell_type": "code",
   "execution_count": 58,
   "metadata": {},
   "outputs": [
    {
     "data": {
      "image/png": "[encoded data removed]",
      "text/plain": [
       "<Figure size 432x288 with 1 Axes>"
      ]
     },
     "metadata": {
      "needs_background": "light"
     },
     "output_type": "display_data"
    }
   ],
   "source": [
    "# model ensemble (bleu) vs deepnet (vert) sur validation\n",
    "graph(train_size, auc_ens_val, auc_dee_val)"
   ]
  },
  {
   "cell_type": "code",
   "execution_count": 59,
   "metadata": {},
   "outputs": [
    {
     "data": {
      "image/png": "[encoded data removed]",
      "text/plain": [
       "<Figure size 1080x432 with 1 Axes>"
      ]
     },
     "metadata": {
      "needs_background": "light"
     },
     "output_type": "display_data"
    }
   ],
   "source": [
    "# model ensemble sur validation (bleu) vs sur split (vert)\n",
    "graph(train_size, auc_ens_val, auc_ens_spl)"
   ]
  },
  {
   "cell_type": "code",
   "execution_count": 60,
   "metadata": {},
   "outputs": [
    {
     "data": {
      "image/png": "[encoded data removed]",
      "text/plain": [
       "<Figure size 1080x432 with 1 Axes>"
      ]
     },
     "metadata": {
      "needs_background": "light"
     },
     "output_type": "display_data"
    }
   ],
   "source": [
    "# model deepnet sur validation (bleu) vs sur split (vert)\n",
    "graph(train_size, auc_dee_val, auc_dee_spl)"
   ]
  },
  {
   "cell_type": "code",
   "execution_count": null,
   "metadata": {},
   "outputs": [],
   "source": []
  }
 ],
 "metadata": {
  "celltoolbar": "Diaporama",
  "kernelspec": {
   "display_name": "Python 3",
   "language": "python",
   "name": "python3"
  },
  "language_info": {
   "codemirror_mode": {
    "name": "ipython",
    "version": 3
   },
   "file_extension": ".py",
   "mimetype": "text/x-python",
   "name": "python",
   "nbconvert_exporter": "python",
   "pygments_lexer": "ipython3",
   "version": "3.7.3"
  }
 },
 "nbformat": 4,
 "nbformat_minor": 2
}
