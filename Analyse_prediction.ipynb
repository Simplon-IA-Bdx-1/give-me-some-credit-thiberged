{
 "cells": [
  {
   "cell_type": "markdown",
   "metadata": {},
   "source": [
    "# Analyse des résultats de la  prédiction"
   ]
  },
  {
   "cell_type": "code",
   "execution_count": 199,
   "metadata": {
    "scrolled": true
   },
   "outputs": [],
   "source": [
    "#récupération de l'ap de bigml\n",
    "\n",
    "from bigml.api import BigML\n",
    "from pandas import read_csv\n",
    "from sklearn.metrics import confusion_matrix\n",
    "import pandas as pan\n",
    "import matplotlib.pyplot as plt\n",
    "import random"
   ]
  },
  {
   "cell_type": "code",
   "execution_count": 200,
   "metadata": {},
   "outputs": [
    {
     "name": "stdout",
     "output_type": "stream",
     "text": [
      "env: BIGML_USERNAME=damienthiberge\n",
      "env: BIGML_API_KEY=d92377e535638e44239dc49238540477263e1bff\n"
     ]
    }
   ],
   "source": [
    "#récupération des identifiants du projet de bigml\n",
    "\n",
    "%env BIGML_USERNAME=damienthiberge\n",
    "%env BIGML_API_KEY=d92377e535638e44239dc49238540477263e1bff"
   ]
  },
  {
   "cell_type": "code",
   "execution_count": 201,
   "metadata": {},
   "outputs": [],
   "source": [
    "#charge de l'api bigml pour pouvoir faire appel à ces fonctions\n",
    "\n",
    "api = BigML()"
   ]
  },
  {
   "cell_type": "markdown",
   "metadata": {},
   "source": [
    "### récupération du fichier train full"
   ]
  },
  {
   "cell_type": "code",
   "execution_count": 202,
   "metadata": {},
   "outputs": [],
   "source": [
    "#récupération du fichier csv bigml à traiter\n",
    "\n",
    "train_full = api.create_source('../../handson-ml/jupiter/train_full.csv')"
   ]
  },
  {
   "cell_type": "code",
   "execution_count": 203,
   "metadata": {},
   "outputs": [
    {
     "data": {
      "text/plain": [
       "True"
      ]
     },
     "execution_count": 203,
     "metadata": {},
     "output_type": "execute_result"
    }
   ],
   "source": [
    "#test des sources\n",
    "\n",
    "api.ok(train_full)"
   ]
  },
  {
   "cell_type": "code",
   "execution_count": 204,
   "metadata": {},
   "outputs": [],
   "source": [
    "#création dataset depuis le fichier csv importer précédement\n",
    "\n",
    "train_full_dataset = api.create_dataset(train_full)"
   ]
  },
  {
   "cell_type": "markdown",
   "metadata": {},
   "source": [
    "### split du fichier train full afin d'entrainer la machine"
   ]
  },
  {
   "cell_type": "code",
   "execution_count": 205,
   "metadata": {},
   "outputs": [],
   "source": [
    "#split du train full\n",
    "\n",
    "train_dataset = api.create_dataset(\n",
    "    train_full_dataset, {\"name\": \"Train (80%)\",\n",
    "                     \"sample_rate\": 0.8, \"seed\": \"Full train\"})\n",
    "validation_dataset = api.create_dataset(\n",
    "    train_full_dataset, {\"name\": \"Train (20%)\",\n",
    "                     \"sample_rate\": 0.8, \"seed\": \"Full train\",\n",
    "                     \"out_of_bag\": True})"
   ]
  },
  {
   "cell_type": "markdown",
   "metadata": {},
   "source": [
    "### création du model puis batch prédiction"
   ]
  },
  {
   "cell_type": "code",
   "execution_count": 206,
   "metadata": {},
   "outputs": [],
   "source": [
    "#creation d'un ensemble à partir de train \n",
    "\n",
    "ensemble = api.create_ensemble([train_dataset],{\"objective_field\":\"SeriousDlqin2yrs\"})"
   ]
  },
  {
   "cell_type": "code",
   "execution_count": 207,
   "metadata": {},
   "outputs": [],
   "source": [
    "#batch prédiction\n",
    "\n",
    "batch_prediction = api.create_batch_prediction(ensemble, validation_dataset, {\"all_fields\":True, \"probabilities\":True, 'prediction_name':'Prediction'})\n"
   ]
  },
  {
   "cell_type": "code",
   "execution_count": 208,
   "metadata": {},
   "outputs": [
    {
     "data": {
      "text/plain": [
       "True"
      ]
     },
     "execution_count": 208,
     "metadata": {},
     "output_type": "execute_result"
    }
   ],
   "source": [
    "#test prediction\n",
    "\n",
    "api.ok(batch_prediction)"
   ]
  },
  {
   "cell_type": "markdown",
   "metadata": {},
   "source": [
    "### récupération csv de la prédiction"
   ]
  },
  {
   "cell_type": "code",
   "execution_count": 209,
   "metadata": {},
   "outputs": [
    {
     "data": {
      "text/plain": [
       "'../../handson-ml/predictions_error.csv'"
      ]
     },
     "execution_count": 209,
     "metadata": {},
     "output_type": "execute_result"
    }
   ],
   "source": [
    "#telechargement de la prédiction\n",
    "\n",
    "api.download_batch_prediction(batch_prediction,\n",
    "    filename='../../handson-ml/predictions_error.csv')"
   ]
  },
  {
   "cell_type": "markdown",
   "metadata": {},
   "source": [
    "### mise en forme de la prédiction"
   ]
  },
  {
   "cell_type": "code",
   "execution_count": 210,
   "metadata": {},
   "outputs": [],
   "source": [
    "error = read_csv('../../handson-ml/predictions_error.csv', index_col=0)\n",
    "error.to_csv('../../handson-ml/predictions_error.csv', index=False)"
   ]
  },
  {
   "cell_type": "markdown",
   "metadata": {},
   "source": [
    "# renomme la colonne 1 probability en prédiction\n",
    "myList = list(error.columns)\n",
    "myList[1] = 'Prediction'\n",
    "error.columns = myList"
   ]
  },
  {
   "cell_type": "markdown",
   "metadata": {},
   "source": [
    "# création de la colonne error\n",
    "error.insert( 2, 'Error', '')"
   ]
  },
  {
   "cell_type": "code",
   "execution_count": 211,
   "metadata": {},
   "outputs": [],
   "source": [
    "# fonction de remplissage de la colonne error\n",
    "def errorPred(row):\n",
    "    if row['SeriousDlqin2yrs'] == 0 and row['Prediction'] == 0:\n",
    "        row['Error'] = 'TN'\n",
    "    if row['SeriousDlqin2yrs'] == 0 and row['Prediction'] == 1:\n",
    "        row['Error'] = 'FP'\n",
    "    if row['SeriousDlqin2yrs'] == 1 and row['Prediction'] == 0:\n",
    "        row['Error'] = 'FN'\n",
    "    if row['SeriousDlqin2yrs'] == 1 and row['Prediction'] == 1:\n",
    "        row['Error'] = 'TP'\n",
    "    return row['Error']\n"
   ]
  },
  {
   "cell_type": "code",
   "execution_count": 212,
   "metadata": {},
   "outputs": [],
   "source": [
    "# remplissage de la colonne error\n",
    "error['Error'] = error.apply(errorPred,axis=1)"
   ]
  },
  {
   "cell_type": "code",
   "execution_count": 213,
   "metadata": {},
   "outputs": [
    {
     "data": {
      "text/html": [
       "<div>\n",
       "<style scoped>\n",
       "    .dataframe tbody tr th:only-of-type {\n",
       "        vertical-align: middle;\n",
       "    }\n",
       "\n",
       "    .dataframe tbody tr th {\n",
       "        vertical-align: top;\n",
       "    }\n",
       "\n",
       "    .dataframe thead th {\n",
       "        text-align: right;\n",
       "    }\n",
       "</style>\n",
       "<table border=\"1\" class=\"dataframe\">\n",
       "  <thead>\n",
       "    <tr style=\"text-align: right;\">\n",
       "      <th></th>\n",
       "      <th>Id</th>\n",
       "      <th>RevolvingUtilizationOfUnsecuredLines</th>\n",
       "      <th>age</th>\n",
       "      <th>IsOld</th>\n",
       "      <th>DebtRatio</th>\n",
       "      <th>MonthlyIncome</th>\n",
       "      <th>NumberOfTimes30DaysOrLater</th>\n",
       "      <th>NumberOfOpenCreditLinesAndLoans</th>\n",
       "      <th>NumberRealEstateLoansOrLines</th>\n",
       "      <th>NumberOfDependents</th>\n",
       "      <th>SeriousDlqin2yrs</th>\n",
       "      <th>Prediction</th>\n",
       "      <th>0 probability</th>\n",
       "      <th>1 probability</th>\n",
       "      <th>Error</th>\n",
       "    </tr>\n",
       "    <tr>\n",
       "      <th>field1</th>\n",
       "      <th></th>\n",
       "      <th></th>\n",
       "      <th></th>\n",
       "      <th></th>\n",
       "      <th></th>\n",
       "      <th></th>\n",
       "      <th></th>\n",
       "      <th></th>\n",
       "      <th></th>\n",
       "      <th></th>\n",
       "      <th></th>\n",
       "      <th></th>\n",
       "      <th></th>\n",
       "      <th></th>\n",
       "      <th></th>\n",
       "    </tr>\n",
       "  </thead>\n",
       "  <tbody>\n",
       "    <tr>\n",
       "      <td>5</td>\n",
       "      <td>6</td>\n",
       "      <td>0.213179</td>\n",
       "      <td>74</td>\n",
       "      <td>1</td>\n",
       "      <td>0.375607</td>\n",
       "      <td>3500.0</td>\n",
       "      <td>0</td>\n",
       "      <td>3</td>\n",
       "      <td>1</td>\n",
       "      <td>6</td>\n",
       "      <td>0</td>\n",
       "      <td>0</td>\n",
       "      <td>0.99420</td>\n",
       "      <td>0.00580</td>\n",
       "      <td>TN</td>\n",
       "    </tr>\n",
       "    <tr>\n",
       "      <td>6</td>\n",
       "      <td>7</td>\n",
       "      <td>0.305682</td>\n",
       "      <td>57</td>\n",
       "      <td>0</td>\n",
       "      <td>5710.000000</td>\n",
       "      <td>NaN</td>\n",
       "      <td>0</td>\n",
       "      <td>8</td>\n",
       "      <td>3</td>\n",
       "      <td>7</td>\n",
       "      <td>0</td>\n",
       "      <td>0</td>\n",
       "      <td>0.96903</td>\n",
       "      <td>0.03097</td>\n",
       "      <td>TN</td>\n",
       "    </tr>\n",
       "    <tr>\n",
       "      <td>12</td>\n",
       "      <td>13</td>\n",
       "      <td>0.010352</td>\n",
       "      <td>46</td>\n",
       "      <td>0</td>\n",
       "      <td>0.298354</td>\n",
       "      <td>12454.0</td>\n",
       "      <td>0</td>\n",
       "      <td>13</td>\n",
       "      <td>2</td>\n",
       "      <td>13</td>\n",
       "      <td>0</td>\n",
       "      <td>0</td>\n",
       "      <td>0.98656</td>\n",
       "      <td>0.01344</td>\n",
       "      <td>TN</td>\n",
       "    </tr>\n",
       "    <tr>\n",
       "      <td>13</td>\n",
       "      <td>14</td>\n",
       "      <td>0.964673</td>\n",
       "      <td>40</td>\n",
       "      <td>0</td>\n",
       "      <td>0.382965</td>\n",
       "      <td>13700.0</td>\n",
       "      <td>14</td>\n",
       "      <td>9</td>\n",
       "      <td>1</td>\n",
       "      <td>14</td>\n",
       "      <td>1</td>\n",
       "      <td>1</td>\n",
       "      <td>0.39964</td>\n",
       "      <td>0.60036</td>\n",
       "      <td>TP</td>\n",
       "    </tr>\n",
       "    <tr>\n",
       "      <td>20</td>\n",
       "      <td>21</td>\n",
       "      <td>0.200923</td>\n",
       "      <td>43</td>\n",
       "      <td>0</td>\n",
       "      <td>0.430046</td>\n",
       "      <td>12300.0</td>\n",
       "      <td>0</td>\n",
       "      <td>10</td>\n",
       "      <td>2</td>\n",
       "      <td>21</td>\n",
       "      <td>0</td>\n",
       "      <td>0</td>\n",
       "      <td>0.98870</td>\n",
       "      <td>0.01130</td>\n",
       "      <td>TN</td>\n",
       "    </tr>\n",
       "    <tr>\n",
       "      <td>...</td>\n",
       "      <td>...</td>\n",
       "      <td>...</td>\n",
       "      <td>...</td>\n",
       "      <td>...</td>\n",
       "      <td>...</td>\n",
       "      <td>...</td>\n",
       "      <td>...</td>\n",
       "      <td>...</td>\n",
       "      <td>...</td>\n",
       "      <td>...</td>\n",
       "      <td>...</td>\n",
       "      <td>...</td>\n",
       "      <td>...</td>\n",
       "      <td>...</td>\n",
       "      <td>...</td>\n",
       "    </tr>\n",
       "    <tr>\n",
       "      <td>149969</td>\n",
       "      <td>149970</td>\n",
       "      <td>0.075535</td>\n",
       "      <td>43</td>\n",
       "      <td>0</td>\n",
       "      <td>0.197538</td>\n",
       "      <td>14700.0</td>\n",
       "      <td>0</td>\n",
       "      <td>10</td>\n",
       "      <td>3</td>\n",
       "      <td>149970</td>\n",
       "      <td>0</td>\n",
       "      <td>0</td>\n",
       "      <td>0.97773</td>\n",
       "      <td>0.02227</td>\n",
       "      <td>TN</td>\n",
       "    </tr>\n",
       "    <tr>\n",
       "      <td>149974</td>\n",
       "      <td>149975</td>\n",
       "      <td>0.962721</td>\n",
       "      <td>61</td>\n",
       "      <td>0</td>\n",
       "      <td>0.603479</td>\n",
       "      <td>5000.0</td>\n",
       "      <td>2</td>\n",
       "      <td>11</td>\n",
       "      <td>1</td>\n",
       "      <td>149975</td>\n",
       "      <td>0</td>\n",
       "      <td>0</td>\n",
       "      <td>0.68695</td>\n",
       "      <td>0.31305</td>\n",
       "      <td>TN</td>\n",
       "    </tr>\n",
       "    <tr>\n",
       "      <td>149983</td>\n",
       "      <td>149984</td>\n",
       "      <td>0.002485</td>\n",
       "      <td>82</td>\n",
       "      <td>1</td>\n",
       "      <td>0.000800</td>\n",
       "      <td>5000.0</td>\n",
       "      <td>0</td>\n",
       "      <td>5</td>\n",
       "      <td>0</td>\n",
       "      <td>149984</td>\n",
       "      <td>0</td>\n",
       "      <td>0</td>\n",
       "      <td>0.99570</td>\n",
       "      <td>0.00430</td>\n",
       "      <td>TN</td>\n",
       "    </tr>\n",
       "    <tr>\n",
       "      <td>149993</td>\n",
       "      <td>149994</td>\n",
       "      <td>1.000000</td>\n",
       "      <td>22</td>\n",
       "      <td>0</td>\n",
       "      <td>0.000000</td>\n",
       "      <td>820.0</td>\n",
       "      <td>0</td>\n",
       "      <td>1</td>\n",
       "      <td>0</td>\n",
       "      <td>149994</td>\n",
       "      <td>0</td>\n",
       "      <td>0</td>\n",
       "      <td>0.93812</td>\n",
       "      <td>0.06188</td>\n",
       "      <td>TN</td>\n",
       "    </tr>\n",
       "    <tr>\n",
       "      <td>149998</td>\n",
       "      <td>149999</td>\n",
       "      <td>0.000000</td>\n",
       "      <td>30</td>\n",
       "      <td>0</td>\n",
       "      <td>0.000000</td>\n",
       "      <td>5716.0</td>\n",
       "      <td>0</td>\n",
       "      <td>4</td>\n",
       "      <td>0</td>\n",
       "      <td>149999</td>\n",
       "      <td>0</td>\n",
       "      <td>0</td>\n",
       "      <td>0.98286</td>\n",
       "      <td>0.01714</td>\n",
       "      <td>TN</td>\n",
       "    </tr>\n",
       "  </tbody>\n",
       "</table>\n",
       "<p>30000 rows × 15 columns</p>\n",
       "</div>"
      ],
      "text/plain": [
       "            Id  RevolvingUtilizationOfUnsecuredLines  age  IsOld    DebtRatio  \\\n",
       "field1                                                                          \n",
       "5            6                              0.213179   74      1     0.375607   \n",
       "6            7                              0.305682   57      0  5710.000000   \n",
       "12          13                              0.010352   46      0     0.298354   \n",
       "13          14                              0.964673   40      0     0.382965   \n",
       "20          21                              0.200923   43      0     0.430046   \n",
       "...        ...                                   ...  ...    ...          ...   \n",
       "149969  149970                              0.075535   43      0     0.197538   \n",
       "149974  149975                              0.962721   61      0     0.603479   \n",
       "149983  149984                              0.002485   82      1     0.000800   \n",
       "149993  149994                              1.000000   22      0     0.000000   \n",
       "149998  149999                              0.000000   30      0     0.000000   \n",
       "\n",
       "        MonthlyIncome  NumberOfTimes30DaysOrLater  \\\n",
       "field1                                              \n",
       "5              3500.0                           0   \n",
       "6                 NaN                           0   \n",
       "12            12454.0                           0   \n",
       "13            13700.0                          14   \n",
       "20            12300.0                           0   \n",
       "...               ...                         ...   \n",
       "149969        14700.0                           0   \n",
       "149974         5000.0                           2   \n",
       "149983         5000.0                           0   \n",
       "149993          820.0                           0   \n",
       "149998         5716.0                           0   \n",
       "\n",
       "        NumberOfOpenCreditLinesAndLoans  NumberRealEstateLoansOrLines  \\\n",
       "field1                                                                  \n",
       "5                                     3                             1   \n",
       "6                                     8                             3   \n",
       "12                                   13                             2   \n",
       "13                                    9                             1   \n",
       "20                                   10                             2   \n",
       "...                                 ...                           ...   \n",
       "149969                               10                             3   \n",
       "149974                               11                             1   \n",
       "149983                                5                             0   \n",
       "149993                                1                             0   \n",
       "149998                                4                             0   \n",
       "\n",
       "        NumberOfDependents  SeriousDlqin2yrs  Prediction  0 probability  \\\n",
       "field1                                                                    \n",
       "5                        6                 0           0        0.99420   \n",
       "6                        7                 0           0        0.96903   \n",
       "12                      13                 0           0        0.98656   \n",
       "13                      14                 1           1        0.39964   \n",
       "20                      21                 0           0        0.98870   \n",
       "...                    ...               ...         ...            ...   \n",
       "149969              149970                 0           0        0.97773   \n",
       "149974              149975                 0           0        0.68695   \n",
       "149983              149984                 0           0        0.99570   \n",
       "149993              149994                 0           0        0.93812   \n",
       "149998              149999                 0           0        0.98286   \n",
       "\n",
       "        1 probability Error  \n",
       "field1                       \n",
       "5             0.00580    TN  \n",
       "6             0.03097    TN  \n",
       "12            0.01344    TN  \n",
       "13            0.60036    TP  \n",
       "20            0.01130    TN  \n",
       "...               ...   ...  \n",
       "149969        0.02227    TN  \n",
       "149974        0.31305    TN  \n",
       "149983        0.00430    TN  \n",
       "149993        0.06188    TN  \n",
       "149998        0.01714    TN  \n",
       "\n",
       "[30000 rows x 15 columns]"
      ]
     },
     "execution_count": 213,
     "metadata": {},
     "output_type": "execute_result"
    }
   ],
   "source": [
    "error"
   ]
  },
  {
   "cell_type": "markdown",
   "metadata": {},
   "source": [
    "### calcul de la matrice de confusion, accurancy et gain"
   ]
  },
  {
   "cell_type": "code",
   "execution_count": 214,
   "metadata": {},
   "outputs": [
    {
     "data": {
      "text/plain": [
       "TN    27779\n",
       "FN     1673\n",
       "TP      316\n",
       "FP      232\n",
       "Name: Error, dtype: int64"
      ]
     },
     "execution_count": 214,
     "metadata": {},
     "output_type": "execute_result"
    }
   ],
   "source": [
    "# affichage de la matrice de confusion\n",
    "resultat = error['Error'].value_counts()\n",
    "resultat"
   ]
  },
  {
   "cell_type": "code",
   "execution_count": 215,
   "metadata": {},
   "outputs": [
    {
     "data": {
      "text/plain": [
       "0.9817333333333333"
      ]
     },
     "execution_count": 215,
     "metadata": {},
     "output_type": "execute_result"
    }
   ],
   "source": [
    "# calcul de l'accurancy\n",
    "accuracy = (resultat[0] + resultat[1])/(resultat[0] + resultat[1] + resultat[2] + resultat[3])\n",
    "accuracy"
   ]
  },
  {
   "cell_type": "code",
   "execution_count": 216,
   "metadata": {},
   "outputs": [
    {
     "data": {
      "text/plain": [
       "12473000"
      ]
     },
     "execution_count": 216,
     "metadata": {},
     "output_type": "execute_result"
    }
   ],
   "source": [
    "# calcul de la matrice de gain\n",
    "matrice_gain = resultat[0]*500 - resultat[1]*500 + resultat[2]*0 - resultat[3]*2500\n",
    "matrice_gain"
   ]
  },
  {
   "cell_type": "markdown",
   "metadata": {},
   "source": [
    "### calcul gain en fonction d'une valeur seuil"
   ]
  },
  {
   "cell_type": "markdown",
   "metadata": {},
   "source": [
    "# fonction de remplissage de la colonne error en prenant en compte une valeur seuil et retour du gain\n",
    "def gain_seuil(seuil):\n",
    "    def seuil_pred(row, seuil):\n",
    "        if row['1 probability'] > seuil and row['SeriousDlqin2yrs'] == 0:\n",
    "            row['Error'] = 'FP'\n",
    "        if row['1 probability'] > seuil and row['SeriousDlqin2yrs'] == 1:\n",
    "            row['Error'] = 'TP'\n",
    "        if row['1 probability'] < seuil and row['SeriousDlqin2yrs'] == 0:\n",
    "            row['Error'] = 'TN'\n",
    "        if row['1 probability'] < seuil and row['SeriousDlqin2yrs'] == 1:\n",
    "            row['Error'] = 'FN'\n",
    "        return row\n",
    "\n",
    "    for df in [error]:\n",
    "        df['Error'] = df[['Error', '1 probability', 'SeriousDlqin2yrs']].apply(seuil_pred, axis=1, seuil = seuil)\n",
    "\n",
    "    count = error['Error'].value_counts()\n",
    "    gain = 1\n",
    "    if \"TP\" not in  error['Error']:\n",
    "        if \"FP\" not in  error['Error']:\n",
    "            gain = count[0]*500 - count[1]*2500\n",
    "        else:\n",
    "            gain = count[0]*500 - count[1]*2500 - count[2]*500\n",
    "    else:\n",
    "        gain = count[0]*500 - count[1]*2500 - count[3]*500\n",
    "        \n",
    "    return gain"
   ]
  },
  {
   "cell_type": "markdown",
   "metadata": {},
   "source": [
    "# affichage de la courbe de gzin en fonction de la valeur seuil\n",
    "table = [gain_seuil(n/100) for n in range(1,100)]\n",
    "seuil = [(n/100) for n in range(1,100)]\n",
    "plt.plot(seuil, table)\n",
    "plt.show()"
   ]
  },
  {
   "cell_type": "markdown",
   "metadata": {},
   "source": [
    "# calcul de la valeur max du gain et obtention du seuil optimal\n",
    "max_val = max(table)\n",
    "max_seuil = table.index(max_val)/100\n",
    "\n",
    "print(f\"le gain maximal est de {max_val} et il est obtenu en {max_seuil}\")"
   ]
  },
  {
   "cell_type": "code",
   "execution_count": 217,
   "metadata": {},
   "outputs": [
    {
     "data": {
      "text/plain": [
       "Counter({'TN': 27779, 'TP': 316, 'FN': 1673, 'FP': 232})"
      ]
     },
     "execution_count": 217,
     "metadata": {},
     "output_type": "execute_result"
    }
   ],
   "source": [
    "# compter les valeurs dans la colonne error\n",
    "from collections import Counter\n",
    "\n",
    "c = Counter(error['SeriousDlqin2yrs'])\n",
    "c_pred = Counter(error['Error'])\n",
    "c_pred"
   ]
  },
  {
   "cell_type": "markdown",
   "metadata": {},
   "source": [
    "### calcul de l'AUC (area under the courbe)"
   ]
  },
  {
   "cell_type": "code",
   "execution_count": 218,
   "metadata": {},
   "outputs": [
    {
     "name": "stdout",
     "output_type": "stream",
     "text": [
      "0.8563028433184485\n"
     ]
    }
   ],
   "source": [
    "pos = error.loc[error['SeriousDlqin2yrs'] == 1] # Tous les Positif  \n",
    "neg = error.loc[error['SeriousDlqin2yrs'] == 0] # Tous les negatifs  \n",
    "x = 0 \n",
    "y = 0 # pour chaque 1 proba ( P ) dans toutes les 1 proba (P)\n",
    "for threshold_pos in pos['1 probability']: # pour chaque 1 Proba ( N ) dans toutes les 1 proba ( N )     \n",
    "    for threshold_neg in neg['1 probability']:         \n",
    "        if threshold_pos > threshold_neg:             \n",
    "            x += 1          \n",
    "        y += 1 \n",
    "print(x/y)"
   ]
  },
  {
   "cell_type": "code",
   "execution_count": null,
   "metadata": {},
   "outputs": [],
   "source": []
  }
 ],
 "metadata": {
  "kernelspec": {
   "display_name": "Python 3",
   "language": "python",
   "name": "python3"
  },
  "language_info": {
   "codemirror_mode": {
    "name": "ipython",
    "version": 3
   },
   "file_extension": ".py",
   "mimetype": "text/x-python",
   "name": "python",
   "nbconvert_exporter": "python",
   "pygments_lexer": "ipython3",
   "version": "3.7.3"
  }
 },
 "nbformat": 4,
 "nbformat_minor": 2
}
