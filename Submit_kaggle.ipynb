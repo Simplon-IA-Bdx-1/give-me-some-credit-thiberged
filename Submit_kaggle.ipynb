{
 "cells": [
  {
   "cell_type": "code",
<<<<<<< HEAD
   "execution_count": 8,
=======
   "execution_count": 1,
>>>>>>> master
   "metadata": {},
   "outputs": [],
   "source": [
    "# importation de pandas\n",
    "\n",
    "from pandas import read_csv\n",
    "\n",
    "#insertion du fichier csv train dans un dataframe\n",
    "\n",
    "df_predictions = read_csv( '../../handson-ml/my_predictions.csv' )"
   ]
  },
  {
   "cell_type": "code",
<<<<<<< HEAD
   "execution_count": 9,
=======
   "execution_count": 2,
>>>>>>> master
   "metadata": {},
   "outputs": [],
   "source": [
    "myList = list(df_predictions.columns)\n",
    "myList[3] = 'Probability'\n",
    "df_predictions.columns = myList"
   ]
  },
  {
   "cell_type": "code",
<<<<<<< HEAD
   "execution_count": 10,
=======
   "execution_count": 3,
>>>>>>> master
   "metadata": {},
   "outputs": [],
   "source": [
    "del df_predictions['SeriousDlqin2yrs']\n",
    "del df_predictions['0 probability']"
   ]
  },
  {
   "cell_type": "code",
<<<<<<< HEAD
   "execution_count": 11,
=======
   "execution_count": 4,
>>>>>>> master
   "metadata": {},
   "outputs": [
    {
     "data": {
      "text/html": [
       "<div>\n",
       "<style scoped>\n",
       "    .dataframe tbody tr th:only-of-type {\n",
       "        vertical-align: middle;\n",
       "    }\n",
       "\n",
       "    .dataframe tbody tr th {\n",
       "        vertical-align: top;\n",
       "    }\n",
       "\n",
       "    .dataframe thead th {\n",
       "        text-align: right;\n",
       "    }\n",
       "</style>\n",
       "<table border=\"1\" class=\"dataframe\">\n",
       "  <thead>\n",
       "    <tr style=\"text-align: right;\">\n",
       "      <th></th>\n",
       "      <th>Id</th>\n",
       "      <th>Probability</th>\n",
       "    </tr>\n",
       "  </thead>\n",
       "  <tbody>\n",
       "    <tr>\n",
       "      <th>0</th>\n",
       "      <td>1</td>\n",
<<<<<<< HEAD
       "      <td>0.05274</td>\n",
=======
       "      <td>0.24558</td>\n",
>>>>>>> master
       "    </tr>\n",
       "    <tr>\n",
       "      <th>1</th>\n",
       "      <td>2</td>\n",
<<<<<<< HEAD
       "      <td>0.04238</td>\n",
=======
       "      <td>0.05259</td>\n",
>>>>>>> master
       "    </tr>\n",
       "    <tr>\n",
       "      <th>2</th>\n",
       "      <td>3</td>\n",
<<<<<<< HEAD
       "      <td>0.00672</td>\n",
=======
       "      <td>0.25174</td>\n",
>>>>>>> master
       "    </tr>\n",
       "    <tr>\n",
       "      <th>3</th>\n",
       "      <td>4</td>\n",
<<<<<<< HEAD
       "      <td>0.05934</td>\n",
=======
       "      <td>0.02318</td>\n",
>>>>>>> master
       "    </tr>\n",
       "    <tr>\n",
       "      <th>4</th>\n",
       "      <td>5</td>\n",
<<<<<<< HEAD
       "      <td>0.08373</td>\n",
=======
       "      <td>0.22774</td>\n",
>>>>>>> master
       "    </tr>\n",
       "    <tr>\n",
       "      <th>5</th>\n",
       "      <td>6</td>\n",
<<<<<<< HEAD
       "      <td>0.02197</td>\n",
=======
       "      <td>0.02257</td>\n",
>>>>>>> master
       "    </tr>\n",
       "    <tr>\n",
       "      <th>6</th>\n",
       "      <td>7</td>\n",
<<<<<<< HEAD
       "      <td>0.04463</td>\n",
=======
       "      <td>0.06791</td>\n",
>>>>>>> master
       "    </tr>\n",
       "    <tr>\n",
       "      <th>7</th>\n",
       "      <td>8</td>\n",
<<<<<<< HEAD
       "      <td>0.02185</td>\n",
=======
       "      <td>0.00496</td>\n",
>>>>>>> master
       "    </tr>\n",
       "    <tr>\n",
       "      <th>8</th>\n",
       "      <td>9</td>\n",
<<<<<<< HEAD
       "      <td>0.00229</td>\n",
=======
       "      <td>0.00203</td>\n",
>>>>>>> master
       "    </tr>\n",
       "    <tr>\n",
       "      <th>9</th>\n",
       "      <td>10</td>\n",
<<<<<<< HEAD
       "      <td>0.21778</td>\n",
=======
       "      <td>0.18716</td>\n",
>>>>>>> master
       "    </tr>\n",
       "    <tr>\n",
       "      <th>10</th>\n",
       "      <td>11</td>\n",
<<<<<<< HEAD
       "      <td>0.01476</td>\n",
=======
       "      <td>0.00978</td>\n",
>>>>>>> master
       "    </tr>\n",
       "    <tr>\n",
       "      <th>11</th>\n",
       "      <td>12</td>\n",
<<<<<<< HEAD
       "      <td>0.01984</td>\n",
=======
       "      <td>0.01632</td>\n",
>>>>>>> master
       "    </tr>\n",
       "    <tr>\n",
       "      <th>12</th>\n",
       "      <td>13</td>\n",
<<<<<<< HEAD
       "      <td>0.00680</td>\n",
=======
       "      <td>0.01041</td>\n",
>>>>>>> master
       "    </tr>\n",
       "    <tr>\n",
       "      <th>13</th>\n",
       "      <td>14</td>\n",
<<<<<<< HEAD
       "      <td>0.03827</td>\n",
=======
       "      <td>0.62012</td>\n",
>>>>>>> master
       "    </tr>\n",
       "    <tr>\n",
       "      <th>14</th>\n",
       "      <td>15</td>\n",
<<<<<<< HEAD
       "      <td>0.04484</td>\n",
=======
       "      <td>0.08471</td>\n",
>>>>>>> master
       "    </tr>\n",
       "    <tr>\n",
       "      <th>15</th>\n",
       "      <td>16</td>\n",
<<<<<<< HEAD
       "      <td>0.02682</td>\n",
=======
       "      <td>0.01965</td>\n",
>>>>>>> master
       "    </tr>\n",
       "    <tr>\n",
       "      <th>16</th>\n",
       "      <td>17</td>\n",
<<<<<<< HEAD
       "      <td>0.03238</td>\n",
=======
       "      <td>0.02430</td>\n",
>>>>>>> master
       "    </tr>\n",
       "    <tr>\n",
       "      <th>17</th>\n",
       "      <td>18</td>\n",
<<<<<<< HEAD
       "      <td>0.01629</td>\n",
=======
       "      <td>0.01662</td>\n",
>>>>>>> master
       "    </tr>\n",
       "    <tr>\n",
       "      <th>18</th>\n",
       "      <td>19</td>\n",
<<<<<<< HEAD
       "      <td>0.22871</td>\n",
=======
       "      <td>0.04518</td>\n",
>>>>>>> master
       "    </tr>\n",
       "    <tr>\n",
       "      <th>19</th>\n",
       "      <td>20</td>\n",
<<<<<<< HEAD
       "      <td>0.07240</td>\n",
=======
       "      <td>0.07362</td>\n",
>>>>>>> master
       "    </tr>\n",
       "    <tr>\n",
       "      <th>20</th>\n",
       "      <td>21</td>\n",
<<<<<<< HEAD
       "      <td>0.01446</td>\n",
=======
       "      <td>0.00756</td>\n",
>>>>>>> master
       "    </tr>\n",
       "    <tr>\n",
       "      <th>21</th>\n",
       "      <td>22</td>\n",
<<<<<<< HEAD
       "      <td>0.00677</td>\n",
=======
       "      <td>0.01076</td>\n",
>>>>>>> master
       "    </tr>\n",
       "    <tr>\n",
       "      <th>22</th>\n",
       "      <td>23</td>\n",
<<<<<<< HEAD
       "      <td>0.00229</td>\n",
=======
       "      <td>0.00217</td>\n",
>>>>>>> master
       "    </tr>\n",
       "    <tr>\n",
       "      <th>23</th>\n",
       "      <td>24</td>\n",
<<<<<<< HEAD
       "      <td>0.41845</td>\n",
=======
       "      <td>0.03606</td>\n",
>>>>>>> master
       "    </tr>\n",
       "    <tr>\n",
       "      <th>24</th>\n",
       "      <td>25</td>\n",
<<<<<<< HEAD
       "      <td>0.08272</td>\n",
=======
       "      <td>0.03542</td>\n",
>>>>>>> master
       "    </tr>\n",
       "    <tr>\n",
       "      <th>25</th>\n",
       "      <td>26</td>\n",
<<<<<<< HEAD
       "      <td>0.01563</td>\n",
=======
       "      <td>0.01539</td>\n",
>>>>>>> master
       "    </tr>\n",
       "    <tr>\n",
       "      <th>26</th>\n",
       "      <td>27</td>\n",
<<<<<<< HEAD
       "      <td>0.08362</td>\n",
=======
       "      <td>0.09331</td>\n",
>>>>>>> master
       "    </tr>\n",
       "    <tr>\n",
       "      <th>27</th>\n",
       "      <td>28</td>\n",
<<<<<<< HEAD
       "      <td>0.00831</td>\n",
=======
       "      <td>0.00813</td>\n",
>>>>>>> master
       "    </tr>\n",
       "    <tr>\n",
       "      <th>28</th>\n",
       "      <td>29</td>\n",
<<<<<<< HEAD
       "      <td>0.05165</td>\n",
=======
       "      <td>0.04592</td>\n",
>>>>>>> master
       "    </tr>\n",
       "    <tr>\n",
       "      <th>29</th>\n",
       "      <td>30</td>\n",
<<<<<<< HEAD
       "      <td>0.02640</td>\n",
=======
       "      <td>0.07972</td>\n",
>>>>>>> master
       "    </tr>\n",
       "    <tr>\n",
       "      <th>...</th>\n",
       "      <td>...</td>\n",
       "      <td>...</td>\n",
       "    </tr>\n",
       "    <tr>\n",
       "      <th>101473</th>\n",
       "      <td>101474</td>\n",
<<<<<<< HEAD
       "      <td>0.05778</td>\n",
=======
       "      <td>0.28576</td>\n",
>>>>>>> master
       "    </tr>\n",
       "    <tr>\n",
       "      <th>101474</th>\n",
       "      <td>101475</td>\n",
<<<<<<< HEAD
       "      <td>0.40949</td>\n",
=======
       "      <td>0.20381</td>\n",
>>>>>>> master
       "    </tr>\n",
       "    <tr>\n",
       "      <th>101475</th>\n",
       "      <td>101476</td>\n",
<<<<<<< HEAD
       "      <td>0.11246</td>\n",
=======
       "      <td>0.09331</td>\n",
>>>>>>> master
       "    </tr>\n",
       "    <tr>\n",
       "      <th>101476</th>\n",
       "      <td>101477</td>\n",
<<<<<<< HEAD
       "      <td>0.00631</td>\n",
=======
       "      <td>0.00481</td>\n",
>>>>>>> master
       "    </tr>\n",
       "    <tr>\n",
       "      <th>101477</th>\n",
       "      <td>101478</td>\n",
<<<<<<< HEAD
       "      <td>0.00259</td>\n",
=======
       "      <td>0.00279</td>\n",
>>>>>>> master
       "    </tr>\n",
       "    <tr>\n",
       "      <th>101478</th>\n",
       "      <td>101479</td>\n",
<<<<<<< HEAD
       "      <td>0.01144</td>\n",
=======
       "      <td>0.02821</td>\n",
>>>>>>> master
       "    </tr>\n",
       "    <tr>\n",
       "      <th>101479</th>\n",
       "      <td>101480</td>\n",
<<<<<<< HEAD
       "      <td>0.14431</td>\n",
=======
       "      <td>0.00864</td>\n",
>>>>>>> master
       "    </tr>\n",
       "    <tr>\n",
       "      <th>101480</th>\n",
       "      <td>101481</td>\n",
<<<<<<< HEAD
       "      <td>0.03976</td>\n",
=======
       "      <td>0.03327</td>\n",
>>>>>>> master
       "    </tr>\n",
       "    <tr>\n",
       "      <th>101481</th>\n",
       "      <td>101482</td>\n",
<<<<<<< HEAD
       "      <td>0.01024</td>\n",
=======
       "      <td>0.00924</td>\n",
>>>>>>> master
       "    </tr>\n",
       "    <tr>\n",
       "      <th>101482</th>\n",
       "      <td>101483</td>\n",
<<<<<<< HEAD
       "      <td>0.29095</td>\n",
=======
       "      <td>0.19819</td>\n",
>>>>>>> master
       "    </tr>\n",
       "    <tr>\n",
       "      <th>101483</th>\n",
       "      <td>101484</td>\n",
<<<<<<< HEAD
       "      <td>0.00330</td>\n",
=======
       "      <td>0.03645</td>\n",
>>>>>>> master
       "    </tr>\n",
       "    <tr>\n",
       "      <th>101484</th>\n",
       "      <td>101485</td>\n",
<<<<<<< HEAD
       "      <td>0.01119</td>\n",
=======
       "      <td>0.38041</td>\n",
>>>>>>> master
       "    </tr>\n",
       "    <tr>\n",
       "      <th>101485</th>\n",
       "      <td>101486</td>\n",
<<<<<<< HEAD
       "      <td>0.00259</td>\n",
=======
       "      <td>0.00289</td>\n",
>>>>>>> master
       "    </tr>\n",
       "    <tr>\n",
       "      <th>101486</th>\n",
       "      <td>101487</td>\n",
<<<<<<< HEAD
       "      <td>0.01739</td>\n",
=======
       "      <td>0.01230</td>\n",
>>>>>>> master
       "    </tr>\n",
       "    <tr>\n",
       "      <th>101487</th>\n",
       "      <td>101488</td>\n",
<<<<<<< HEAD
       "      <td>0.00560</td>\n",
=======
       "      <td>0.02835</td>\n",
>>>>>>> master
       "    </tr>\n",
       "    <tr>\n",
       "      <th>101488</th>\n",
       "      <td>101489</td>\n",
<<<<<<< HEAD
       "      <td>0.00731</td>\n",
=======
       "      <td>0.18535</td>\n",
>>>>>>> master
       "    </tr>\n",
       "    <tr>\n",
       "      <th>101489</th>\n",
       "      <td>101490</td>\n",
<<<<<<< HEAD
       "      <td>0.17520</td>\n",
=======
       "      <td>0.31950</td>\n",
>>>>>>> master
       "    </tr>\n",
       "    <tr>\n",
       "      <th>101490</th>\n",
       "      <td>101491</td>\n",
<<<<<<< HEAD
       "      <td>0.35479</td>\n",
=======
       "      <td>0.14035</td>\n",
>>>>>>> master
       "    </tr>\n",
       "    <tr>\n",
       "      <th>101491</th>\n",
       "      <td>101492</td>\n",
<<<<<<< HEAD
       "      <td>0.06606</td>\n",
=======
       "      <td>0.01260</td>\n",
>>>>>>> master
       "    </tr>\n",
       "    <tr>\n",
       "      <th>101492</th>\n",
       "      <td>101493</td>\n",
<<<<<<< HEAD
       "      <td>0.04772</td>\n",
=======
       "      <td>0.01584</td>\n",
>>>>>>> master
       "    </tr>\n",
       "    <tr>\n",
       "      <th>101493</th>\n",
       "      <td>101494</td>\n",
<<<<<<< HEAD
       "      <td>0.00688</td>\n",
=======
       "      <td>0.00454</td>\n",
>>>>>>> master
       "    </tr>\n",
       "    <tr>\n",
       "      <th>101494</th>\n",
       "      <td>101495</td>\n",
<<<<<<< HEAD
       "      <td>0.00848</td>\n",
=======
       "      <td>0.67289</td>\n",
>>>>>>> master
       "    </tr>\n",
       "    <tr>\n",
       "      <th>101495</th>\n",
       "      <td>101496</td>\n",
<<<<<<< HEAD
       "      <td>0.26406</td>\n",
=======
       "      <td>0.07680</td>\n",
>>>>>>> master
       "    </tr>\n",
       "    <tr>\n",
       "      <th>101496</th>\n",
       "      <td>101497</td>\n",
<<<<<<< HEAD
       "      <td>0.00790</td>\n",
=======
       "      <td>0.00412</td>\n",
>>>>>>> master
       "    </tr>\n",
       "    <tr>\n",
       "      <th>101497</th>\n",
       "      <td>101498</td>\n",
<<<<<<< HEAD
       "      <td>0.00259</td>\n",
=======
       "      <td>0.36258</td>\n",
>>>>>>> master
       "    </tr>\n",
       "    <tr>\n",
       "      <th>101498</th>\n",
       "      <td>101499</td>\n",
<<<<<<< HEAD
       "      <td>0.02256</td>\n",
=======
       "      <td>0.02102</td>\n",
>>>>>>> master
       "    </tr>\n",
       "    <tr>\n",
       "      <th>101499</th>\n",
       "      <td>101500</td>\n",
<<<<<<< HEAD
       "      <td>0.33788</td>\n",
=======
       "      <td>0.08297</td>\n",
>>>>>>> master
       "    </tr>\n",
       "    <tr>\n",
       "      <th>101500</th>\n",
       "      <td>101501</td>\n",
<<<<<<< HEAD
       "      <td>0.00210</td>\n",
=======
       "      <td>0.00293</td>\n",
>>>>>>> master
       "    </tr>\n",
       "    <tr>\n",
       "      <th>101501</th>\n",
       "      <td>101502</td>\n",
<<<<<<< HEAD
       "      <td>0.10873</td>\n",
=======
       "      <td>0.01651</td>\n",
>>>>>>> master
       "    </tr>\n",
       "    <tr>\n",
       "      <th>101502</th>\n",
       "      <td>101503</td>\n",
<<<<<<< HEAD
       "      <td>0.02940</td>\n",
=======
       "      <td>0.19607</td>\n",
>>>>>>> master
       "    </tr>\n",
       "  </tbody>\n",
       "</table>\n",
       "<p>101503 rows × 2 columns</p>\n",
       "</div>"
      ],
      "text/plain": [
       "            Id  Probability\n",
<<<<<<< HEAD
       "0            1      0.05274\n",
       "1            2      0.04238\n",
       "2            3      0.00672\n",
       "3            4      0.05934\n",
       "4            5      0.08373\n",
       "5            6      0.02197\n",
       "6            7      0.04463\n",
       "7            8      0.02185\n",
       "8            9      0.00229\n",
       "9           10      0.21778\n",
       "10          11      0.01476\n",
       "11          12      0.01984\n",
       "12          13      0.00680\n",
       "13          14      0.03827\n",
       "14          15      0.04484\n",
       "15          16      0.02682\n",
       "16          17      0.03238\n",
       "17          18      0.01629\n",
       "18          19      0.22871\n",
       "19          20      0.07240\n",
       "20          21      0.01446\n",
       "21          22      0.00677\n",
       "22          23      0.00229\n",
       "23          24      0.41845\n",
       "24          25      0.08272\n",
       "25          26      0.01563\n",
       "26          27      0.08362\n",
       "27          28      0.00831\n",
       "28          29      0.05165\n",
       "29          30      0.02640\n",
       "...        ...          ...\n",
       "101473  101474      0.05778\n",
       "101474  101475      0.40949\n",
       "101475  101476      0.11246\n",
       "101476  101477      0.00631\n",
       "101477  101478      0.00259\n",
       "101478  101479      0.01144\n",
       "101479  101480      0.14431\n",
       "101480  101481      0.03976\n",
       "101481  101482      0.01024\n",
       "101482  101483      0.29095\n",
       "101483  101484      0.00330\n",
       "101484  101485      0.01119\n",
       "101485  101486      0.00259\n",
       "101486  101487      0.01739\n",
       "101487  101488      0.00560\n",
       "101488  101489      0.00731\n",
       "101489  101490      0.17520\n",
       "101490  101491      0.35479\n",
       "101491  101492      0.06606\n",
       "101492  101493      0.04772\n",
       "101493  101494      0.00688\n",
       "101494  101495      0.00848\n",
       "101495  101496      0.26406\n",
       "101496  101497      0.00790\n",
       "101497  101498      0.00259\n",
       "101498  101499      0.02256\n",
       "101499  101500      0.33788\n",
       "101500  101501      0.00210\n",
       "101501  101502      0.10873\n",
       "101502  101503      0.02940\n",
=======
       "0            1      0.24558\n",
       "1            2      0.05259\n",
       "2            3      0.25174\n",
       "3            4      0.02318\n",
       "4            5      0.22774\n",
       "5            6      0.02257\n",
       "6            7      0.06791\n",
       "7            8      0.00496\n",
       "8            9      0.00203\n",
       "9           10      0.18716\n",
       "10          11      0.00978\n",
       "11          12      0.01632\n",
       "12          13      0.01041\n",
       "13          14      0.62012\n",
       "14          15      0.08471\n",
       "15          16      0.01965\n",
       "16          17      0.02430\n",
       "17          18      0.01662\n",
       "18          19      0.04518\n",
       "19          20      0.07362\n",
       "20          21      0.00756\n",
       "21          22      0.01076\n",
       "22          23      0.00217\n",
       "23          24      0.03606\n",
       "24          25      0.03542\n",
       "25          26      0.01539\n",
       "26          27      0.09331\n",
       "27          28      0.00813\n",
       "28          29      0.04592\n",
       "29          30      0.07972\n",
       "...        ...          ...\n",
       "101473  101474      0.28576\n",
       "101474  101475      0.20381\n",
       "101475  101476      0.09331\n",
       "101476  101477      0.00481\n",
       "101477  101478      0.00279\n",
       "101478  101479      0.02821\n",
       "101479  101480      0.00864\n",
       "101480  101481      0.03327\n",
       "101481  101482      0.00924\n",
       "101482  101483      0.19819\n",
       "101483  101484      0.03645\n",
       "101484  101485      0.38041\n",
       "101485  101486      0.00289\n",
       "101486  101487      0.01230\n",
       "101487  101488      0.02835\n",
       "101488  101489      0.18535\n",
       "101489  101490      0.31950\n",
       "101490  101491      0.14035\n",
       "101491  101492      0.01260\n",
       "101492  101493      0.01584\n",
       "101493  101494      0.00454\n",
       "101494  101495      0.67289\n",
       "101495  101496      0.07680\n",
       "101496  101497      0.00412\n",
       "101497  101498      0.36258\n",
       "101498  101499      0.02102\n",
       "101499  101500      0.08297\n",
       "101500  101501      0.00293\n",
       "101501  101502      0.01651\n",
       "101502  101503      0.19607\n",
>>>>>>> master
       "\n",
       "[101503 rows x 2 columns]"
      ]
     },
<<<<<<< HEAD
     "execution_count": 11,
=======
     "execution_count": 4,
>>>>>>> master
     "metadata": {},
     "output_type": "execute_result"
    }
   ],
   "source": [
    "df_predictions"
   ]
  },
  {
   "cell_type": "code",
<<<<<<< HEAD
   "execution_count": 12,
=======
   "execution_count": 5,
>>>>>>> master
   "metadata": {},
   "outputs": [],
   "source": [
    "df_predictions.to_csv(\"kaggle_prediction.csv\", index=False)"
   ]
  },
  {
   "cell_type": "code",
<<<<<<< HEAD
   "execution_count": 13,
=======
   "execution_count": 6,
>>>>>>> master
   "metadata": {},
   "outputs": [],
   "source": [
    "import kaggle"
   ]
  },
  {
   "cell_type": "code",
<<<<<<< HEAD
   "execution_count": 14,
=======
   "execution_count": 7,
>>>>>>> master
   "metadata": {},
   "outputs": [
    {
     "name": "stderr",
     "output_type": "stream",
     "text": [
<<<<<<< HEAD
      "100%|██████████| 1.64M/1.64M [00:03<00:00, 525kB/s]\n"
=======
      "100%|██████████| 1.65M/1.65M [00:03<00:00, 526kB/s]\n"
>>>>>>> master
     ]
    },
    {
     "data": {
      "text/plain": [
       "Successfully submitted to Give Me Some Credit"
      ]
     },
<<<<<<< HEAD
     "execution_count": 14,
=======
     "execution_count": 7,
>>>>>>> master
     "metadata": {},
     "output_type": "execute_result"
    }
   ],
   "source": [
    "submission_file = \"kaggle_prediction.csv\"\n",
    "kaggle.api.competition_submit(submission_file, \"BigML ensemble\", \"GiveMeSomeCredit\")"
   ]
  },
  {
   "cell_type": "code",
   "execution_count": null,
   "metadata": {},
   "outputs": [],
   "source": []
  }
 ],
 "metadata": {
  "kernelspec": {
   "display_name": "Python 3",
   "language": "python",
   "name": "python3"
  },
  "language_info": {
   "codemirror_mode": {
    "name": "ipython",
    "version": 3
   },
   "file_extension": ".py",
   "mimetype": "text/x-python",
   "name": "python",
   "nbconvert_exporter": "python",
   "pygments_lexer": "ipython3",
   "version": "3.7.3"
  }
 },
 "nbformat": 4,
 "nbformat_minor": 2
}
